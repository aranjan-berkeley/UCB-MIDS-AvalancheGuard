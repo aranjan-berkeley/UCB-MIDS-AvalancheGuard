{
 "cells": [
  {
   "cell_type": "code",
   "execution_count": 5,
   "metadata": {
    "collapsed": true,
    "ExecuteTime": {
     "end_time": "2024-07-06T21:55:26.523276Z",
     "start_time": "2024-07-06T21:55:26.519208Z"
    }
   },
   "outputs": [],
   "source": [
    "import logging\n",
    "import boto3\n",
    "from botocore.exceptions import ClientError\n",
    "import os\n"
   ]
  },
  {
   "cell_type": "code",
   "execution_count": 6,
   "outputs": [],
   "source": [
    "def upload_file(s3_client, file_name, bucket, object_name=None):\n",
    "    \"\"\"Upload a file to an S3 bucket\n",
    "\n",
    "    :param s3_client:\n",
    "    :param file_name: File to upload\n",
    "    :param bucket: Bucket to upload to\n",
    "    :param object_name: S3 object name. If not specified then file_name is used\n",
    "    :return: True if file was uploaded, else False\n",
    "    \"\"\"\n",
    "\n",
    "    # If S3 object_name was not specified, use file_name\n",
    "    if object_name is None:\n",
    "        object_name = os.path.basename(file_name)\n",
    "\n",
    "    bucket = aws_s3.Bucket(bucket)\n",
    "    try:\n",
    "        response = bucket.upload_file(file_name, object_name)\n",
    "    except ClientError as e:\n",
    "        logging.error(e)\n",
    "        return False, None\n",
    "\n",
    "    return True, response\n",
    "\n"
   ],
   "metadata": {
    "collapsed": false,
    "ExecuteTime": {
     "end_time": "2024-07-06T21:55:26.903515Z",
     "start_time": "2024-07-06T21:55:26.901341Z"
    }
   }
  },
  {
   "cell_type": "code",
   "execution_count": 7,
   "outputs": [],
   "source": [
    "LOCAL_REDIS_URL = \"redis://localhost:6379/\"\n",
    "AWS_ACCESS_KEY = ''\n",
    "AWS_SECRET_KEY = ''\n",
    "AWS_SESSION_TOKEN = \"\"\n",
    "AWS_REGION_NAME = ''\n",
    "AWS_S3_BUCKET_NAME = \"s3-avalanche-guard\"\n",
    "aws_sagemaker_client = boto3.client(\n",
    "    'sagemaker-runtime',\n",
    "    aws_access_key_id=AWS_ACCESS_KEY,\n",
    "    aws_secret_access_key=AWS_SECRET_KEY,\n",
    "    region_name=AWS_REGION_NAME\n",
    "    # aws_session_token=AWS_SESSION_TOKEN\n",
    ")\n",
    "aws_s3 = boto3.resource(\"s3\",\n",
    "                        aws_access_key_id=AWS_ACCESS_KEY,\n",
    "                        aws_secret_access_key=AWS_SECRET_KEY,\n",
    "                        region_name=AWS_REGION_NAME\n",
    "                        )\n"
   ],
   "metadata": {
    "collapsed": false,
    "ExecuteTime": {
     "end_time": "2024-07-06T21:55:29.331878Z",
     "start_time": "2024-07-06T21:55:29.210834Z"
    }
   }
  },
  {
   "cell_type": "code",
   "execution_count": 14,
   "outputs": [
    {
     "name": "stdout",
     "output_type": "stream",
     "text": [
      "/Users/amiyaranjan/GitHub/w210/MIDS_DATASCI_210/AvaGuardServer/src/DraftNotebooks\n",
      "True\n",
      "None\n"
     ]
    }
   ],
   "source": [
    "dir_path = os.getcwd().replace('\\\\', '/')\n",
    "print(dir_path)\n",
    "sucflag, resp = upload_file(aws_s3,\"../temp/temp_2002-01-01 ammertal (15).jpg\",\"s3-avalanche-guard\",\"avaguardapp/uploaded-images/temp_2002-01-01 ammertal (15).jpg\")\n",
    "\n",
    "print(sucflag)\n",
    "print(resp)"
   ],
   "metadata": {
    "collapsed": false,
    "ExecuteTime": {
     "end_time": "2024-07-06T21:58:50.626222Z",
     "start_time": "2024-07-06T21:58:49.218145Z"
    }
   }
  },
  {
   "cell_type": "code",
   "execution_count": null,
   "outputs": [],
   "source": [],
   "metadata": {
    "collapsed": false
   }
  }
 ],
 "metadata": {
  "kernelspec": {
   "display_name": "Python 3",
   "language": "python",
   "name": "python3"
  },
  "language_info": {
   "codemirror_mode": {
    "name": "ipython",
    "version": 2
   },
   "file_extension": ".py",
   "mimetype": "text/x-python",
   "name": "python",
   "nbconvert_exporter": "python",
   "pygments_lexer": "ipython2",
   "version": "2.7.6"
  }
 },
 "nbformat": 4,
 "nbformat_minor": 0
}
