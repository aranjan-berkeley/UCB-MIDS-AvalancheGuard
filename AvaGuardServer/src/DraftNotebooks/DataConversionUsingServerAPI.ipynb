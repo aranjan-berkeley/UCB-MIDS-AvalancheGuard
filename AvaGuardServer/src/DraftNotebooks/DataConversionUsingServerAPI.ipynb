{
 "cells": [
  {
   "cell_type": "markdown",
   "source": [
    "Setup"
   ],
   "metadata": {
    "collapsed": false
   }
  },
  {
   "cell_type": "code",
   "execution_count": 154,
   "outputs": [],
   "source": [
    "import os\n",
    "import requests\n",
    "import json\n",
    "\n",
    "from src.AvaGuardHelpers.avaguard_models import  User,  Observation\n"
   ],
   "metadata": {
    "collapsed": false,
    "ExecuteTime": {
     "end_time": "2024-08-04T20:45:55.826877Z",
     "start_time": "2024-08-04T20:45:55.823958Z"
    }
   }
  },
  {
   "cell_type": "code",
   "execution_count": null,
   "outputs": [],
   "source": [
    "\n",
    "\n",
    "####api_url = \"https://api.avalancheguard.org:50001\"\n",
    "api_url = \"http://127.0.0.1:8000\"\n",
    "loginForm = {\"username\": \"\", \"password\": \"\"}\n",
    "endPoint = \"token\"\n",
    "api_full_url = api_url + \"/\"+endPoint\n",
    "response = requests.post(api_full_url, data=loginForm)\n",
    "if response.status_code == 200:\n",
    "    tokenDict = response.json()\n",
    "else:\n",
    "    tokenDict = {}\n",
    "\n",
    "\n",
    "print(tokenDict)\n",
    "#print(response.json())\n",
    "print(response.status_code)"
   ],
   "metadata": {
    "collapsed": false
   }
  },
  {
   "cell_type": "code",
   "execution_count": null,
   "outputs": [],
   "source": [
    "head = {'Authorization': 'Bearer {}'.format(tokenDict[\"access_token\"])}\n",
    "print(head)\n",
    "endPoint = \"users/me\"\n",
    "api_full_url = api_url + \"/\"+endPoint\n",
    "response = requests.get(api_full_url, headers=head)\n",
    "if response.status_code == 200:\n",
    "    user = response.json()\n",
    "else:\n",
    "    user = {}\n",
    "print(user)\n"
   ],
   "metadata": {
    "collapsed": false
   }
  },
  {
   "cell_type": "code",
   "execution_count": null,
   "outputs": [],
   "source": [
    "head = {'Authorization': 'Bearer {}'.format(tokenDict[\"access_token\"])}\n",
    "\n",
    "endPoint = \"observations\"\n",
    "api_full_url = api_url + \"/\"+endPoint\n",
    "print(api_full_url)\n",
    "response = requests.get(api_full_url, headers=head)\n",
    "if response.status_code == 200:\n",
    "    user = response.json()\n",
    "else:\n",
    "    user = {}\n",
    "print(user)"
   ],
   "metadata": {
    "collapsed": false
   }
  },
  {
   "cell_type": "markdown",
   "source": [
    "### Load Data from Avalanche Center Manually Downloaded Json"
   ],
   "metadata": {
    "collapsed": false
   }
  },
  {
   "cell_type": "code",
   "execution_count": null,
   "outputs": [],
   "source": [
    "avalancheCenterJsonDir = \"/Users/amiyaranjan/GitHub/w210/MIDS_DATASCI_210/data/ColoradoAvalancheCenter\"\n",
    "jsonFile = \"Data_231101_240301.json\"\n",
    "\n",
    "#fullJsonFile = avalancheCenterJsonDir + \"/\"+jsonFile\n",
    "fullJsonFile = os.path.join(avalancheCenterJsonDir,jsonFile)\n",
    "print(fullJsonFile)\n",
    "\n",
    "f = open(fullJsonFile)\n",
    "\n",
    "jsonDataList = list(json.load(f))\n",
    "print(str(jsonDataList)[:100])\n",
    "#print(len(jsonDataList))\n",
    "print(\"************\")\n",
    "\n",
    "\n"
   ],
   "metadata": {
    "collapsed": false
   }
  },
  {
   "cell_type": "code",
   "execution_count": null,
   "outputs": [],
   "source": [],
   "metadata": {
    "collapsed": false
   }
  },
  {
   "cell_type": "code",
   "execution_count": null,
   "outputs": [],
   "source": [
    "limiter = 2\n",
    "for idx,jsonData in enumerate(jsonDataList):\n",
    "    if idx > limiter:\n",
    "        break\n",
    "    if jsonData[\"avalanche_observations_count\"] >0 and jsonData[\"assets\"]:\n",
    "        obs = Observation()\n",
    "        obs.observation_id = jsonData[\"id\"]\n",
    "        if jsonData[\"saw_avalanche\"] == \"true\" or jsonData[\"saw_avalanche\"] == \"True\" :\n",
    "            obs.avalanche_observed = True\n",
    "        else:\n",
    "            obs.avalanche_observed = False\n",
    "        obs.avalanche_triggered = jsonData[\"triggered_avalanche\"]\n",
    "        obs.avalanche_experienced = jsonData[\"caught_in_avalanche\"]\n",
    "        obs.datetime_taken_UTC = str(jsonData[\"observed_at\"])[:16]\n",
    "        print(obs.datetime_taken_UTC)\n",
    "        obs.imagefile_url = jsonData[\"assets\"][0][\"full_url\"]\n",
    "        obs.observation_notes = jsonData[\"description\"]\n",
    "        obs.lat = jsonData[\"latitude\"]\n",
    "        obs.lng = jsonData[\"longitude\"]\n",
    "        obs.general_location = f'Colorado/{jsonData[\"backcountry_zone\"][\"title\"]}'\n",
    "        obs.submitted_user=\"cskier\"\n",
    "        #print(obs.asdict())\n",
    "        #print(dict(obs))\n",
    "        print(\"************\")\n",
    "        api_url = \"http://127.0.0.1:8000\"\n",
    "        endPoint = \"observations/register_observation_json\"\n",
    "        api_full_url = api_url + \"/\"+endPoint\n",
    "        obsjson = json.dumps(obs.asdict())\n",
    "        #print(f\"Now uploading ={obsjson}\")\n",
    "        obsrv = {}\n",
    "\n",
    "        response = requests.post(api_full_url, obsjson, headers=head)\n",
    "        print(response)\n",
    "        if response.status_code == 200:\n",
    "            obsrv = response.json()\n",
    "        else:\n",
    "            obsrv = {}\n",
    "\n",
    "print(obsrv)\n",
    "\n",
    "#print(f'idx={idx},data={jsonData}')\n",
    "print(\"\")\n",
    "print(\"--------------------------\")\n",
    "\n"
   ],
   "metadata": {
    "collapsed": false
   }
  },
  {
   "cell_type": "code",
   "execution_count": 92,
   "outputs": [],
   "source": [],
   "metadata": {
    "collapsed": false,
    "ExecuteTime": {
     "end_time": "2024-08-01T23:37:06.149025Z",
     "start_time": "2024-08-01T23:37:06.139320Z"
    }
   }
  },
  {
   "cell_type": "code",
   "execution_count": 92,
   "outputs": [],
   "source": [],
   "metadata": {
    "collapsed": false,
    "ExecuteTime": {
     "end_time": "2024-08-01T23:37:08.669915Z",
     "start_time": "2024-08-01T23:37:08.664939Z"
    }
   }
  },
  {
   "cell_type": "code",
   "execution_count": null,
   "outputs": [],
   "source": [],
   "metadata": {
    "collapsed": false
   }
  }
 ],
 "metadata": {
  "kernelspec": {
   "display_name": "Python 3",
   "language": "python",
   "name": "python3"
  },
  "language_info": {
   "codemirror_mode": {
    "name": "ipython",
    "version": 2
   },
   "file_extension": ".py",
   "mimetype": "text/x-python",
   "name": "python",
   "nbconvert_exporter": "python",
   "pygments_lexer": "ipython2",
   "version": "2.7.6"
  }
 },
 "nbformat": 4,
 "nbformat_minor": 0
}
