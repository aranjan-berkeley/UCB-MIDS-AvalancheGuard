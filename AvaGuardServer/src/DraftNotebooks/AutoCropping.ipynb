{
 "cells": [
  {
   "cell_type": "code",
   "execution_count": 1,
   "metadata": {
    "collapsed": true,
    "ExecuteTime": {
     "end_time": "2024-08-04T21:14:17.328450Z",
     "start_time": "2024-08-04T21:13:39.237476Z"
    }
   },
   "outputs": [
    {
     "name": "stdout",
     "output_type": "stream",
     "text": [
      "Collecting clipcrop\r\n",
      "  Downloading clipcrop-2.4.6.tar.gz (7.5 kB)\r\n",
      "  Preparing metadata (setup.py) ... \u001B[?25ldone\r\n",
      "\u001B[?25hCollecting transformers\r\n",
      "  Downloading transformers-4.43.3-py3-none-any.whl (9.4 MB)\r\n",
      "\u001B[2K     \u001B[90m━━━━━━━━━━━━━━━━━━━━━━━━━━━━━━━━━━━━━━━━\u001B[0m \u001B[32m9.4/9.4 MB\u001B[0m \u001B[31m2.6 MB/s\u001B[0m eta \u001B[36m0:00:00\u001B[0m00:01\u001B[0m00:01\u001B[0m\r\n",
      "\u001B[?25hCollecting torch\r\n",
      "  Downloading torch-2.4.0-cp311-none-macosx_11_0_arm64.whl (62.1 MB)\r\n",
      "\u001B[2K     \u001B[90m━━━━━━━━━━━━━━━━━━━━━━━━━━━━━━━━━━━━━━━━\u001B[0m \u001B[32m62.1/62.1 MB\u001B[0m \u001B[31m10.9 MB/s\u001B[0m eta \u001B[36m0:00:00\u001B[0m00:01\u001B[0m00:01\u001B[0m\r\n",
      "\u001B[?25hRequirement already satisfied: pillow in /Users/amiyaranjan/GitHub/w210/MIDS_DATASCI_210/AvaGuardServer/venv/lib/python3.11/site-packages (from clipcrop) (10.4.0)\r\n",
      "Collecting timm\r\n",
      "  Downloading timm-1.0.8-py3-none-any.whl (2.3 MB)\r\n",
      "\u001B[2K     \u001B[90m━━━━━━━━━━━━━━━━━━━━━━━━━━━━━━━━━━━━━━━━\u001B[0m \u001B[32m2.3/2.3 MB\u001B[0m \u001B[31m14.4 MB/s\u001B[0m eta \u001B[36m0:00:00\u001B[0m00:01\u001B[0m00:01\u001B[0m\r\n",
      "\u001B[?25hRequirement already satisfied: numpy in /Users/amiyaranjan/GitHub/w210/MIDS_DATASCI_210/AvaGuardServer/venv/lib/python3.11/site-packages (from clipcrop) (1.26.4)\r\n",
      "Collecting opencv-python\r\n",
      "  Downloading opencv_python-4.10.0.84-cp37-abi3-macosx_11_0_arm64.whl (54.8 MB)\r\n",
      "\u001B[2K     \u001B[90m━━━━━━━━━━━━━━━━━━━━━━━━━━━━━━━━━━━━━━━━\u001B[0m \u001B[32m54.8/54.8 MB\u001B[0m \u001B[31m21.5 MB/s\u001B[0m eta \u001B[36m0:00:00\u001B[0m00:01\u001B[0m00:01\u001B[0m\r\n",
      "\u001B[?25hCollecting pytesseract\r\n",
      "  Downloading pytesseract-0.3.10-py3-none-any.whl (14 kB)\r\n",
      "Requirement already satisfied: packaging>=21.3 in /Users/amiyaranjan/GitHub/w210/MIDS_DATASCI_210/AvaGuardServer/venv/lib/python3.11/site-packages (from pytesseract->clipcrop) (23.2)\r\n",
      "Collecting torchvision\r\n",
      "  Downloading torchvision-0.19.0-cp311-cp311-macosx_11_0_arm64.whl (1.7 MB)\r\n",
      "\u001B[2K     \u001B[90m━━━━━━━━━━━━━━━━━━━━━━━━━━━━━━━━━━━━━━━━\u001B[0m \u001B[32m1.7/1.7 MB\u001B[0m \u001B[31m23.7 MB/s\u001B[0m eta \u001B[36m0:00:00\u001B[0ma \u001B[36m0:00:01\u001B[0m\r\n",
      "\u001B[?25hRequirement already satisfied: pyyaml in /Users/amiyaranjan/GitHub/w210/MIDS_DATASCI_210/AvaGuardServer/venv/lib/python3.11/site-packages (from timm->clipcrop) (6.0.1)\r\n",
      "Collecting huggingface_hub\r\n",
      "  Downloading huggingface_hub-0.24.5-py3-none-any.whl (417 kB)\r\n",
      "\u001B[2K     \u001B[90m━━━━━━━━━━━━━━━━━━━━━━━━━━━━━━━━━━━━━━\u001B[0m \u001B[32m417.5/417.5 kB\u001B[0m \u001B[31m18.5 MB/s\u001B[0m eta \u001B[36m0:00:00\u001B[0m\r\n",
      "\u001B[?25hCollecting safetensors\r\n",
      "  Downloading safetensors-0.4.3-cp311-cp311-macosx_11_0_arm64.whl (410 kB)\r\n",
      "\u001B[2K     \u001B[90m━━━━━━━━━━━━━━━━━━━━━━━━━━━━━━━━━━━━━━\u001B[0m \u001B[32m410.3/410.3 kB\u001B[0m \u001B[31m11.6 MB/s\u001B[0m eta \u001B[36m0:00:00\u001B[0m\r\n",
      "\u001B[?25hRequirement already satisfied: filelock in /Users/amiyaranjan/GitHub/w210/MIDS_DATASCI_210/AvaGuardServer/venv/lib/python3.11/site-packages (from torch->clipcrop) (3.15.4)\r\n",
      "Requirement already satisfied: typing-extensions>=4.8.0 in /Users/amiyaranjan/GitHub/w210/MIDS_DATASCI_210/AvaGuardServer/venv/lib/python3.11/site-packages (from torch->clipcrop) (4.12.2)\r\n",
      "Collecting sympy\r\n",
      "  Downloading sympy-1.13.1-py3-none-any.whl (6.2 MB)\r\n",
      "\u001B[2K     \u001B[90m━━━━━━━━━━━━━━━━━━━━━━━━━━━━━━━━━━━━━━━━\u001B[0m \u001B[32m6.2/6.2 MB\u001B[0m \u001B[31m16.3 MB/s\u001B[0m eta \u001B[36m0:00:00\u001B[0m00:01\u001B[0m00:01\u001B[0m\r\n",
      "\u001B[?25hCollecting networkx\r\n",
      "  Downloading networkx-3.3-py3-none-any.whl (1.7 MB)\r\n",
      "\u001B[2K     \u001B[90m━━━━━━━━━━━━━━━━━━━━━━━━━━━━━━━━━━━━━━━━\u001B[0m \u001B[32m1.7/1.7 MB\u001B[0m \u001B[31m20.6 MB/s\u001B[0m eta \u001B[36m0:00:00\u001B[0ma \u001B[36m0:00:01\u001B[0m\r\n",
      "\u001B[?25hRequirement already satisfied: jinja2 in /Users/amiyaranjan/GitHub/w210/MIDS_DATASCI_210/AvaGuardServer/venv/lib/python3.11/site-packages (from torch->clipcrop) (3.1.4)\r\n",
      "Collecting fsspec\r\n",
      "  Downloading fsspec-2024.6.1-py3-none-any.whl (177 kB)\r\n",
      "\u001B[2K     \u001B[90m━━━━━━━━━━━━━━━━━━━━━━━━━━━━━━━━━━━━━━\u001B[0m \u001B[32m177.6/177.6 kB\u001B[0m \u001B[31m16.9 MB/s\u001B[0m eta \u001B[36m0:00:00\u001B[0m\r\n",
      "\u001B[?25hCollecting regex!=2019.12.17\r\n",
      "  Downloading regex-2024.7.24-cp311-cp311-macosx_11_0_arm64.whl (278 kB)\r\n",
      "\u001B[2K     \u001B[90m━━━━━━━━━━━━━━━━━━━━━━━━━━━━━━━━━━━━━━\u001B[0m \u001B[32m278.9/278.9 kB\u001B[0m \u001B[31m12.3 MB/s\u001B[0m eta \u001B[36m0:00:00\u001B[0m\r\n",
      "\u001B[?25hRequirement already satisfied: requests in /Users/amiyaranjan/GitHub/w210/MIDS_DATASCI_210/AvaGuardServer/venv/lib/python3.11/site-packages (from transformers->clipcrop) (2.32.3)\r\n",
      "Collecting tokenizers<0.20,>=0.19\r\n",
      "  Downloading tokenizers-0.19.1-cp311-cp311-macosx_11_0_arm64.whl (2.4 MB)\r\n",
      "\u001B[2K     \u001B[90m━━━━━━━━━━━━━━━━━━━━━━━━━━━━━━━━━━━━━━━━\u001B[0m \u001B[32m2.4/2.4 MB\u001B[0m \u001B[31m21.0 MB/s\u001B[0m eta \u001B[36m0:00:00\u001B[0ma \u001B[36m0:00:01\u001B[0m\r\n",
      "\u001B[?25hRequirement already satisfied: tqdm>=4.27 in /Users/amiyaranjan/GitHub/w210/MIDS_DATASCI_210/AvaGuardServer/venv/lib/python3.11/site-packages (from transformers->clipcrop) (4.66.4)\r\n",
      "Requirement already satisfied: MarkupSafe>=2.0 in /Users/amiyaranjan/GitHub/w210/MIDS_DATASCI_210/AvaGuardServer/venv/lib/python3.11/site-packages (from jinja2->torch->clipcrop) (2.1.5)\r\n",
      "Requirement already satisfied: charset-normalizer<4,>=2 in /Users/amiyaranjan/GitHub/w210/MIDS_DATASCI_210/AvaGuardServer/venv/lib/python3.11/site-packages (from requests->transformers->clipcrop) (3.3.2)\r\n",
      "Requirement already satisfied: idna<4,>=2.5 in /Users/amiyaranjan/GitHub/w210/MIDS_DATASCI_210/AvaGuardServer/venv/lib/python3.11/site-packages (from requests->transformers->clipcrop) (3.7)\r\n",
      "Requirement already satisfied: urllib3<3,>=1.21.1 in /Users/amiyaranjan/GitHub/w210/MIDS_DATASCI_210/AvaGuardServer/venv/lib/python3.11/site-packages (from requests->transformers->clipcrop) (2.2.2)\r\n",
      "Requirement already satisfied: certifi>=2017.4.17 in /Users/amiyaranjan/GitHub/w210/MIDS_DATASCI_210/AvaGuardServer/venv/lib/python3.11/site-packages (from requests->transformers->clipcrop) (2024.7.4)\r\n",
      "Collecting mpmath<1.4,>=1.1.0\r\n",
      "  Using cached mpmath-1.3.0-py3-none-any.whl (536 kB)\r\n",
      "Building wheels for collected packages: clipcrop\r\n",
      "  Building wheel for clipcrop (setup.py) ... \u001B[?25ldone\r\n",
      "\u001B[?25h  Created wheel for clipcrop: filename=clipcrop-2.4.6-py3-none-any.whl size=7489 sha256=97a3df07ab126970589f0aca2ab4e8ad993fc5357a15a2785e42da144519140c\r\n",
      "  Stored in directory: /Users/amiyaranjan/Library/Caches/pip/wheels/bb/b8/c3/ae658f445c6b553571df5b0e7a93c7bea06e4a94ac694b86f9\r\n",
      "Successfully built clipcrop\r\n",
      "Installing collected packages: mpmath, sympy, safetensors, regex, pytesseract, opencv-python, networkx, fsspec, torch, huggingface_hub, torchvision, tokenizers, transformers, timm, clipcrop\r\n",
      "Successfully installed clipcrop-2.4.6 fsspec-2024.6.1 huggingface_hub-0.24.5 mpmath-1.3.0 networkx-3.3 opencv-python-4.10.0.84 pytesseract-0.3.10 regex-2024.7.24 safetensors-0.4.3 sympy-1.13.1 timm-1.0.8 tokenizers-0.19.1 torch-2.4.0 torchvision-0.19.0 transformers-4.43.3\r\n",
      "\r\n",
      "\u001B[1m[\u001B[0m\u001B[34;49mnotice\u001B[0m\u001B[1;39;49m]\u001B[0m\u001B[39;49m A new release of pip available: \u001B[0m\u001B[31;49m22.3.1\u001B[0m\u001B[39;49m -> \u001B[0m\u001B[32;49m24.2\u001B[0m\r\n",
      "\u001B[1m[\u001B[0m\u001B[34;49mnotice\u001B[0m\u001B[1;39;49m]\u001B[0m\u001B[39;49m To update, run: \u001B[0m\u001B[32;49mpip install --upgrade pip\u001B[0m\r\n"
     ]
    }
   ],
   "source": [
    "!pip install clipcrop"
   ]
  },
  {
   "cell_type": "code",
   "execution_count": 6,
   "outputs": [],
   "source": [
    "from clipcrop import clipcrop"
   ],
   "metadata": {
    "collapsed": false,
    "ExecuteTime": {
     "end_time": "2024-08-04T21:17:20.385340Z",
     "start_time": "2024-08-04T21:17:20.382778Z"
    }
   }
  },
  {
   "cell_type": "code",
   "execution_count": 18,
   "outputs": [],
   "source": [
    "from clipcrop import clipcrop\n",
    "\n",
    "cc = clipcrop.ClipCrop(\"../temp/b159b1cd-5e3b-48ef-9ffa-47e8b492205b.jpg\") #,\"Location of avalanche in the picture\")\n",
    "\n",
    "DFE, DM, CLIPM, CLIPP = cc.load_models()\n",
    "\n",
    "result = cc.extract_image(DFE, DM, CLIPM, CLIPP, \"Location of avalanche in the picture\", num=2)"
   ],
   "metadata": {
    "collapsed": false,
    "ExecuteTime": {
     "end_time": "2024-08-04T21:27:42.328335Z",
     "start_time": "2024-08-04T21:27:39.930607Z"
    }
   }
  },
  {
   "cell_type": "code",
   "execution_count": 13,
   "outputs": [
    {
     "name": "stdout",
     "output_type": "stream",
     "text": [
      "/Users/amiyaranjan/GitHub/w210/MIDS_DATASCI_210/AvaGuardServer/src/DraftNotebooks\r\n"
     ]
    }
   ],
   "source": [
    "!pwd"
   ],
   "metadata": {
    "collapsed": false,
    "ExecuteTime": {
     "end_time": "2024-08-04T21:22:33.139956Z",
     "start_time": "2024-08-04T21:22:33.001740Z"
    }
   }
  },
  {
   "cell_type": "code",
   "execution_count": 17,
   "outputs": [
    {
     "data": {
      "text/plain": "config.json:   0%|          | 0.00/10.8k [00:00<?, ?B/s]",
      "application/vnd.jupyter.widget-view+json": {
       "version_major": 2,
       "version_minor": 0,
       "model_id": "1fa611bc248741129da173cced704207"
      }
     },
     "metadata": {},
     "output_type": "display_data"
    },
    {
     "data": {
      "text/plain": "model.safetensors:   0%|          | 0.00/167M [00:00<?, ?B/s]",
      "application/vnd.jupyter.widget-view+json": {
       "version_major": 2,
       "version_minor": 0,
       "model_id": "7bf04ad2b71e4b7c8e8fe6ab23971900"
      }
     },
     "metadata": {},
     "output_type": "display_data"
    },
    {
     "data": {
      "text/plain": "preprocessor_config.json:   0%|          | 0.00/380 [00:00<?, ?B/s]",
      "application/vnd.jupyter.widget-view+json": {
       "version_major": 2,
       "version_minor": 0,
       "model_id": "6894aea1d8124b40bf21f4034f4b7a49"
      }
     },
     "metadata": {},
     "output_type": "display_data"
    },
    {
     "name": "stderr",
     "output_type": "stream",
     "text": [
      "/Users/amiyaranjan/GitHub/w210/MIDS_DATASCI_210/AvaGuardServer/venv/lib/python3.11/site-packages/transformers/utils/deprecation.py:165: FutureWarning: `max_size` is deprecated and removed starting from version 4.27.0 for `MaskFormerImageProcessor.__init__`.\n",
      "  return func(*args, **kwargs)\n",
      "Hardware accelerator e.g. GPU is available in the environment, but no `device` argument is passed to the `Pipeline` object. Model will be on CPU.\n",
      "`label_ids_to_fuse` unset. No instance will be fused.\n"
     ]
    }
   ],
   "source": [
    "from clipcrop import clipcrop\n",
    "\n",
    "clipseg = clipcrop.ClipSeg(\"../temp/b159b1cd-5e3b-48ef-9ffa-47e8b492205b.jpg\",\"Location of avalanche in the picture\")\n",
    "\n",
    "segmentor, clipmodel, clipprocessor = clipseg.load_models()\n",
    "\n",
    "result = clipseg.segment_image(segmentor, clipmodel, clipprocessor)"
   ],
   "metadata": {
    "collapsed": false,
    "ExecuteTime": {
     "end_time": "2024-08-04T21:26:01.683927Z",
     "start_time": "2024-08-04T21:25:48.980897Z"
    }
   }
  },
  {
   "cell_type": "code",
   "execution_count": null,
   "outputs": [],
   "source": [],
   "metadata": {
    "collapsed": false
   }
  }
 ],
 "metadata": {
  "kernelspec": {
   "display_name": "Python 3",
   "language": "python",
   "name": "python3"
  },
  "language_info": {
   "codemirror_mode": {
    "name": "ipython",
    "version": 2
   },
   "file_extension": ".py",
   "mimetype": "text/x-python",
   "name": "python",
   "nbconvert_exporter": "python",
   "pygments_lexer": "ipython2",
   "version": "2.7.6"
  }
 },
 "nbformat": 4,
 "nbformat_minor": 0
}
