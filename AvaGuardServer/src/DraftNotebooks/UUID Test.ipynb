{
 "cells": [
  {
   "cell_type": "code",
   "execution_count": 1,
   "outputs": [],
   "source": [
    "from uuid_extensions import uuid7, uuid7str\n",
    "import os\n",
    "from pathlib import Path"
   ],
   "metadata": {
    "collapsed": false,
    "ExecuteTime": {
     "end_time": "2024-07-06T21:06:59.180808Z",
     "start_time": "2024-07-06T21:06:59.174867Z"
    }
   }
  },
  {
   "cell_type": "code",
   "execution_count": 4,
   "outputs": [
    {
     "name": "stdout",
     "output_type": "stream",
     "text": [
      "/Users/amiyaranjan/GitHub/w210/MIDS_DATASCI_210/AvaGuardServer/src/DraftNotebooks/temp/temp_06689b22-5206-7994-8000-c9c990ae0516.py\n"
     ]
    }
   ],
   "source": [
    "filename = \"main.py\"\n",
    "\n",
    "# get Unique ID\n",
    "imgId = uuid7str()\n",
    "# get upload file extension\n",
    "file_extension = os.path.splitext(filename)[1]\n",
    "#build file name\n",
    "new_file_name = imgId + file_extension\n",
    "# build temp file name\n",
    "temp_imagefilepath = os.path.dirname(os.path.realpath(filename)) + \"/temp/temp_\" + new_file_name\n",
    "\n",
    "print(temp_imagefilepath)"
   ],
   "metadata": {
    "collapsed": false,
    "ExecuteTime": {
     "end_time": "2024-07-06T21:07:49.132871Z",
     "start_time": "2024-07-06T21:07:49.127608Z"
    }
   }
  },
  {
   "cell_type": "code",
   "execution_count": null,
   "outputs": [],
   "source": [],
   "metadata": {
    "collapsed": false
   }
  }
 ],
 "metadata": {
  "kernelspec": {
   "display_name": "Python 3",
   "language": "python",
   "name": "python3"
  },
  "language_info": {
   "codemirror_mode": {
    "name": "ipython",
    "version": 2
   },
   "file_extension": ".py",
   "mimetype": "text/x-python",
   "name": "python",
   "nbconvert_exporter": "python",
   "pygments_lexer": "ipython2",
   "version": "2.7.6"
  }
 },
 "nbformat": 4,
 "nbformat_minor": 0
}
