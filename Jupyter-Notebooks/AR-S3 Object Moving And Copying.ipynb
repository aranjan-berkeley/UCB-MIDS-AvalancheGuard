{
 "cells": [
  {
   "cell_type": "code",
   "execution_count": 67,
   "id": "3b3c23c8-8f8c-41e6-b923-3568d0afd644",
   "metadata": {},
   "outputs": [],
   "source": [
    "import boto3\n",
    "import random\n",
    "import shutil"
   ]
  },
  {
   "cell_type": "code",
   "execution_count": 68,
   "id": "e777c141-8c15-4ca8-90f1-43c5e74d4bbe",
   "metadata": {},
   "outputs": [],
   "source": [
    "S3_BUCKET = \"s3-avalanche-guard\""
   ]
  },
  {
   "cell_type": "code",
   "execution_count": 78,
   "id": "c4144d92-eb31-4f7a-b1a5-d8186d740a10",
   "metadata": {},
   "outputs": [],
   "source": [
    "# copy an S3 object to another object\n",
    "# example: copy_s3_object('my_bucket', old_key='tmp/test.txt', new_key='tmp/tmp2/test.txt')\n",
    "def copy_s3_object(bucket: str, old_key: str, new_key: str) -> None:\n",
    "    boto3.resource('s3').Object(bucket,  new_key).copy_from(CopySource=f'{bucket}/{old_key}')\n",
    "    \n",
    "\n",
    "# move an S3 object to another object\n",
    "# example: move_s3_object('my_bucket', old_key='tmp/test.txt', new_key='tmp/tmp2/test.txt')\n",
    "def move_s3_object(bucket: str, old_key: str, new_key: str) -> None:\n",
    "    boto3.resource('s3').Object(bucket,  new_key).copy_from(CopySource=f'{bucket}/{old_key}')\n",
    "    boto3.client('s3').delete_object(Bucket=bucket, Key=old_key)\n",
    "\n",
    "# copy an S3 object to another folder\n",
    "# example: copy_s3_object('my_bucket', old_folder='tmp/', new_folder='tmp/tmp2/', object_name='test.txt')\n",
    "def s3_copy_to_another_folder(bucket: str, old_folder: str, new_folder: str, object_name:str) -> None:\n",
    "    \n",
    "    old_key = old_folder+object_name\n",
    "    new_key = new_folder+object_name\n",
    "    boto3.resource('s3').Object(bucket,  new_key).copy_from(CopySource=f'{bucket}/{old_key}')\n",
    "    \n",
    "\n",
    "# copy an S3 object to another folder\n",
    "# example: copy_s3_object('my_bucket', old_folder='tmp/', new_folder='tmp/tmp2/', object_name='test.txt')\n",
    "def s3_copy_to_another_folderAndBucket(src_bucket: str, dest_bucket,old_folder: str, new_folder: str, object_name:str) -> None:\n",
    "    \n",
    "    old_key = old_folder+object_name\n",
    "    new_key = new_folder+object_name\n",
    "    boto3.resource('s3').Object(dest_bucket,  new_key).copy_from(CopySource=f'{src_bucket}/{old_key}')\n",
    "    \n",
    "        \n",
    "\n",
    "    # move an S3 object to another folder\n",
    "# example: move_s3_object('my_bucket', old_folder='tmp/', new_folder='tmp/tmp2/', object_name='test.txt')\n",
    "def s3_move_to_another_folder(bucket: str, old_folder: str, new_folder: str, object_name:str) -> None:\n",
    "    \n",
    "    old_key = old_folder+object_name\n",
    "    new_key = new_folder+object_name\n",
    "    boto3.resource('s3').Object(bucket,  new_key).copy_from(CopySource=f'{bucket}/{old_key}')\n",
    "    boto3.client('s3').delete_object(Bucket=bucket, Key=old_key)\n",
    "\n",
    "    \n",
    "#print bucket contents\n",
    "def print_all_s3_objects(bucket_name:str, prefix:str):\n",
    "    s3 = boto3.client('s3')\n",
    "    paginator = s3.get_paginator('list_objects_v2')\n",
    "    page_iterator = paginator.paginate(Bucket=bucket_name,Prefix=prefix)\n",
    "\n",
    "    for page in page_iterator:\n",
    "        if 'Contents' in page:\n",
    "            for obj in page['Contents']:\n",
    "                objkey = obj[\"Key\"]\n",
    "                if objkey[len(objkey)-len(suffix):] == suffix:\n",
    "                    print(f'Name: {objkey} | Size: {obj[\"Size\"]}')\n",
    "        else:\n",
    "            print(\"Bucket is empty or does not exist\")\n",
    "\n",
    "# Get bucket contents as a list\n",
    "def list_all_s3_objects(bucket_name:str, prefix:str, suffix:str, limit:int=100000)-> [str]:\n",
    "    s3 = boto3.client('s3')\n",
    "    paginator = s3.get_paginator('list_objects_v2')\n",
    "    page_iterator = paginator.paginate(Bucket=bucket_name,Prefix=prefix)\n",
    "\n",
    "    i = 0 \n",
    "    objlist = []\n",
    "    for page in page_iterator:\n",
    "        if 'Contents' in page:\n",
    "            for obj in page['Contents']:\n",
    "                objkey = obj[\"Key\"]\n",
    "                if objkey[len(objkey)-len(suffix):] == suffix:\n",
    "                    i=i+1\n",
    "                    if i > limit:\n",
    "                        break\n",
    "                    objlist.append( objkey.replace(prefix, \"\"))\n",
    "                if i>limit:\n",
    "                    break\n",
    "            if i> limit:\n",
    "                break\n",
    "\n",
    "    return objlist\n",
    "\n",
    "\n",
    "# copy multiple objects from one folder to another folder (matching a key prefix)\n",
    "# example: copy_s3_object_basedOnKey('my_bucket', old_folder='tmp/', new_folder='tmp/tmp2/', object_name='test.txt')\n",
    "def copy_s3_object_basedOnKey(bucket: str, old_folder: str, new_folder: str, key_prefix:str, limit:int) -> None:\n",
    "    \n",
    "    # First get the listing of all the objects\n",
    "    objectList = list_all_s3_objects(S3_BUCKET, key_prefix)\n",
    "    i = 0\n",
    "    for obj in objectList:\n",
    "        i = i+1\n",
    "        if i> limit:\n",
    "            break\n",
    "        print(f\"Copying obejct {obj} from folder {old_folder} to folder {new_folder} . Moved file count={i}                                    \", end='\\r')\n",
    "        s3_copy_to_another_folder(bucket, old_folder, new_folder, obj)\n",
    "\n",
    "# copy multiple objects from one bucket/folder to another bucket/folder (matching a key prefix)\n",
    "# example: copy_s3_object_basedOnKey('my_bucket', old_folder='tmp/', new_folder='tmp/tmp2/', object_name='test.txt')\n",
    "def copy_s3_object_basedOnKeyFromAnotherBucket(src_bucket: str, dest_bucket:str, old_folder: str, new_folder: str, key_prefix:str, limit:int) -> None:\n",
    "    \n",
    "    # First get the listing of all the objects\n",
    "    objectList = list_all_s3_objects(src_bucket, key_prefix)\n",
    "    i = 0\n",
    "    for obj in objectList:\n",
    "        i = i+1\n",
    "        if i> limit:\n",
    "            break\n",
    "        print(f\"Copying obejct {obj} from folder {old_folder} to folder {new_folder} . Moved file count={i}                                   \", end='\\r')\n",
    "        s3_copy_to_another_folderAndBucket(src_bucket, dest_bucket, old_folder, new_folder, obj)\n",
    "        \n",
    "              \n"
   ]
  },
  {
   "cell_type": "markdown",
   "id": "df35349a-8b2a-4fa9-90f5-7f35d258099f",
   "metadata": {},
   "source": [
    "### For Experiment 01 (Train a binary classifier to identify if the picture is a terrain or not)"
   ]
  },
  {
   "cell_type": "code",
   "execution_count": 70,
   "id": "b7a26a1f-22a4-4bc9-94ab-7c6c9cb3e99a",
   "metadata": {},
   "outputs": [],
   "source": [
    "# Prepare data\n",
    "# Move all avalanche images to one folder (positive)\n",
    "# then copy imagenet data and move to another folder (negative)"
   ]
  },
  {
   "cell_type": "code",
   "execution_count": 98,
   "id": "e3e6cfe9-0238-41d8-b37f-0117d5d696bd",
   "metadata": {},
   "outputs": [
    {
     "name": "stdout",
     "output_type": "stream",
     "text": [
      "count=1, fullkey = 1p-notebooks-datasets/caltech/images/sample_bath_tub_image.jpg,  objectname = 1p-notebooks-datasets-caltech-images-sample_bath_tub_image.jpg\n",
      "Skipping this file imgkey = 1p-notebooks-datasets/caltech/images/sample_bath_tub_image.jpg as error happened. Error = An error occurred (AccessDenied) when calling the CopyObject operation: Access Denied \n",
      "count=1, fullkey = ai_services_assets/custom_labels/datasets/multi_class_flowers/test/camellia4.jpg,  objectname = ai_services_assets-custom_labels-datasets-multi_class_flowers-test-camellia4.jpg\n",
      "Skipping this file imgkey = ai_services_assets/custom_labels/datasets/multi_class_flowers/test/camellia4.jpg as error happened. Error = An error occurred (AccessDenied) when calling the CopyObject operation: Access Denied \n",
      "count=1, fullkey = ai_services_assets/custom_labels/datasets/multi_class_flowers/test/camellia5.jpg,  objectname = ai_services_assets-custom_labels-datasets-multi_class_flowers-test-camellia5.jpg\n",
      "Skipping this file imgkey = ai_services_assets/custom_labels/datasets/multi_class_flowers/test/camellia5.jpg as error happened. Error = An error occurred (AccessDenied) when calling the CopyObject operation: Access Denied \n",
      "count=1, fullkey = ai_services_assets/custom_labels/datasets/multi_class_flowers/test/helleborus5.jpg,  objectname = ai_services_assets-custom_labels-datasets-multi_class_flowers-test-helleborus5.jpg\n",
      "Skipping this file imgkey = ai_services_assets/custom_labels/datasets/multi_class_flowers/test/helleborus5.jpg as error happened. Error = An error occurred (AccessDenied) when calling the CopyObject operation: Access Denied \n",
      "count=1, fullkey = ai_services_assets/custom_labels/datasets/multi_class_flowers/test/helleborus6.jpg,  objectname = ai_services_assets-custom_labels-datasets-multi_class_flowers-test-helleborus6.jpg\n",
      "Skipping this file imgkey = ai_services_assets/custom_labels/datasets/multi_class_flowers/test/helleborus6.jpg as error happened. Error = An error occurred (AccessDenied) when calling the CopyObject operation: Access Denied \n",
      "count=1, fullkey = ai_services_assets/custom_labels/datasets/multi_class_flowers/test/helleborus7.jpg,  objectname = ai_services_assets-custom_labels-datasets-multi_class_flowers-test-helleborus7.jpg\n",
      "Skipping this file imgkey = ai_services_assets/custom_labels/datasets/multi_class_flowers/test/helleborus7.jpg as error happened. Error = An error occurred (AccessDenied) when calling the CopyObject operation: Access Denied \n",
      "count=1, fullkey = ai_services_assets/custom_labels/datasets/multi_class_flowers/test/jonquil5.jpg,  objectname = ai_services_assets-custom_labels-datasets-multi_class_flowers-test-jonquil5.jpg\n",
      "Skipping this file imgkey = ai_services_assets/custom_labels/datasets/multi_class_flowers/test/jonquil5.jpg as error happened. Error = An error occurred (AccessDenied) when calling the CopyObject operation: Access Denied \n",
      "count=1, fullkey = ai_services_assets/custom_labels/datasets/multi_class_flowers/test/jonquil7.jpg,  objectname = ai_services_assets-custom_labels-datasets-multi_class_flowers-test-jonquil7.jpg\n",
      "Skipping this file imgkey = ai_services_assets/custom_labels/datasets/multi_class_flowers/test/jonquil7.jpg as error happened. Error = An error occurred (AccessDenied) when calling the CopyObject operation: Access Denied \n",
      "count=1, fullkey = ai_services_assets/custom_labels/datasets/multi_class_flowers/test/jonquil8.jpg,  objectname = ai_services_assets-custom_labels-datasets-multi_class_flowers-test-jonquil8.jpg\n",
      "Skipping this file imgkey = ai_services_assets/custom_labels/datasets/multi_class_flowers/test/jonquil8.jpg as error happened. Error = An error occurred (AccessDenied) when calling the CopyObject operation: Access Denied \n",
      "count=1, fullkey = ai_services_assets/custom_labels/datasets/multi_class_flowers/test/mauve_honey_myrtle4.jpg,  objectname = ai_services_assets-custom_labels-datasets-multi_class_flowers-test-mauve_honey_myrtle4.jpg\n",
      "Skipping this file imgkey = ai_services_assets/custom_labels/datasets/multi_class_flowers/test/mauve_honey_myrtle4.jpg as error happened. Error = An error occurred (AccessDenied) when calling the CopyObject operation: Access Denied \n",
      "count=1, fullkey = ai_services_assets/custom_labels/datasets/multi_class_flowers/test/mauve_honey_myrtle5.jpg,  objectname = ai_services_assets-custom_labels-datasets-multi_class_flowers-test-mauve_honey_myrtle5.jpg\n",
      "Skipping this file imgkey = ai_services_assets/custom_labels/datasets/multi_class_flowers/test/mauve_honey_myrtle5.jpg as error happened. Error = An error occurred (AccessDenied) when calling the CopyObject operation: Access Denied \n",
      "count=1, fullkey = ai_services_assets/custom_labels/datasets/multi_class_flowers/test/mediterranean_spurge3.jpg,  objectname = ai_services_assets-custom_labels-datasets-multi_class_flowers-test-mediterranean_spurge3.jpg\n",
      "Skipping this file imgkey = ai_services_assets/custom_labels/datasets/multi_class_flowers/test/mediterranean_spurge3.jpg as error happened. Error = An error occurred (AccessDenied) when calling the CopyObject operation: Access Denied \n",
      "count=1, fullkey = ai_services_assets/custom_labels/datasets/multi_class_flowers/test/mediterranean_spurge4.jpg,  objectname = ai_services_assets-custom_labels-datasets-multi_class_flowers-test-mediterranean_spurge4.jpg\n",
      "Skipping this file imgkey = ai_services_assets/custom_labels/datasets/multi_class_flowers/test/mediterranean_spurge4.jpg as error happened. Error = An error occurred (AccessDenied) when calling the CopyObject operation: Access Denied \n",
      "count=1, fullkey = ai_services_assets/custom_labels/datasets/multi_class_flowers/train/camellia1.jpg,  objectname = ai_services_assets-custom_labels-datasets-multi_class_flowers-train-camellia1.jpg\n",
      "Skipping this file imgkey = ai_services_assets/custom_labels/datasets/multi_class_flowers/train/camellia1.jpg as error happened. Error = An error occurred (AccessDenied) when calling the CopyObject operation: Access Denied \n",
      "count=1, fullkey = ai_services_assets/custom_labels/datasets/multi_class_flowers/train/camellia2.jpg,  objectname = ai_services_assets-custom_labels-datasets-multi_class_flowers-train-camellia2.jpg\n",
      "Skipping this file imgkey = ai_services_assets/custom_labels/datasets/multi_class_flowers/train/camellia2.jpg as error happened. Error = An error occurred (AccessDenied) when calling the CopyObject operation: Access Denied \n"
     ]
    }
   ],
   "source": [
    "import os\n",
    "source_bucket = \"jumpstart-cache-prod-us-west-1\"\n",
    "#source_folder = \"training-datasets/ai_services_assets/custom_labels/datasets/multi_class_flowers/test\"\n",
    "Dest_folder = \"data/experiments/exp01-terrain-binary/negative\"\n",
    "\n",
    "imglist = list_all_s3_objects(source_bucket,\"\",\".jpg\",15)\n",
    "\n",
    "i=0\n",
    "LIMIT = 15\n",
    "for imgkey in imglist:\n",
    "    i=i+1\n",
    "    if i> LIMIT:\n",
    "        break\n",
    "    #filename1 = os.path.basename(imgkey)    \n",
    "    filename = imgkey.replace(\"/\",\"-\")\n",
    "    print (f\"count={i}, fullkey = {imgkey},  objectname = {filename}\", end=\"\\n\")\n",
    "    try:\n",
    "        boto3.resource('s3').Object(S3_BUCKET, filename ).copy_from(CopySource=f\"{source_bucket}/{imgkey}\")\n",
    "    except Exception as e:\n",
    "        print(f\"Skipping this file imgkey = {imgkey} as error happened. Error = {e} \", end=\"\\n\")\n",
    "        if \"Access Denied\" in str(e):\n",
    "            i = i-1\n",
    "        \n",
    "    \n",
    "\n",
    "#copy_s3_object_basedOnKeyFromAnotherBucket(source_bucket,S3_BUCKET, source_folder, Dest_folder, \"jumpstart-cache-prod-us-west-1/training-datasets/\", 4 )"
   ]
  },
  {
   "cell_type": "code",
   "execution_count": 87,
   "id": "125bffd4-2ff0-46c4-ad37-418e257da1d6",
   "metadata": {},
   "outputs": [
    {
     "ename": "NoSuchKey",
     "evalue": "An error occurred (NoSuchKey) when calling the CopyObject operation: The specified key does not exist.",
     "output_type": "error",
     "traceback": [
      "\u001b[0;31m---------------------------------------------------------------------------\u001b[0m",
      "\u001b[0;31mNoSuchKey\u001b[0m                                 Traceback (most recent call last)",
      "Cell \u001b[0;32mIn[87], line 4\u001b[0m\n\u001b[1;32m      2\u001b[0m filename \u001b[38;5;241m=\u001b[39m \u001b[38;5;124m\"\u001b[39m\u001b[38;5;124mdelme1.jpg\u001b[39m\u001b[38;5;124m\"\u001b[39m\n\u001b[1;32m      3\u001b[0m \u001b[38;5;66;03m#boto3.resource('s3').Object(S3_BUCKET, filename ).copy_from(CopySource=f\"{source_bucket}/{imgkey}\")\u001b[39;00m\n\u001b[0;32m----> 4\u001b[0m \u001b[43mboto3\u001b[49m\u001b[38;5;241;43m.\u001b[39;49m\u001b[43mresource\u001b[49m\u001b[43m(\u001b[49m\u001b[38;5;124;43m'\u001b[39;49m\u001b[38;5;124;43ms3\u001b[39;49m\u001b[38;5;124;43m'\u001b[39;49m\u001b[43m)\u001b[49m\u001b[38;5;241;43m.\u001b[39;49m\u001b[43mObject\u001b[49m\u001b[43m(\u001b[49m\u001b[43mS3_BUCKET\u001b[49m\u001b[43m,\u001b[49m\u001b[43m \u001b[49m\u001b[43mfilename\u001b[49m\u001b[43m \u001b[49m\u001b[43m)\u001b[49m\u001b[38;5;241;43m.\u001b[39;49m\u001b[43mcopy_from\u001b[49m\u001b[43m(\u001b[49m\u001b[43mCopySource\u001b[49m\u001b[38;5;241;43m=\u001b[39;49m\u001b[38;5;124;43mf\u001b[39;49m\u001b[38;5;124;43m\"\u001b[39;49m\u001b[38;5;124;43mjumpstart-cache-prod-us-west-1/\u001b[39;49m\u001b[38;5;132;43;01m{\u001b[39;49;00m\u001b[43mimgkey\u001b[49m\u001b[38;5;132;43;01m}\u001b[39;49;00m\u001b[38;5;124;43m\"\u001b[39;49m\u001b[43m)\u001b[49m\n",
      "File \u001b[0;32m/opt/conda/lib/python3.10/site-packages/boto3/resources/factory.py:581\u001b[0m, in \u001b[0;36mResourceFactory._create_action.<locals>.do_action\u001b[0;34m(self, *args, **kwargs)\u001b[0m\n\u001b[1;32m    580\u001b[0m \u001b[38;5;28;01mdef\u001b[39;00m \u001b[38;5;21mdo_action\u001b[39m(\u001b[38;5;28mself\u001b[39m, \u001b[38;5;241m*\u001b[39margs, \u001b[38;5;241m*\u001b[39m\u001b[38;5;241m*\u001b[39mkwargs):\n\u001b[0;32m--> 581\u001b[0m     response \u001b[38;5;241m=\u001b[39m \u001b[43maction\u001b[49m\u001b[43m(\u001b[49m\u001b[38;5;28;43mself\u001b[39;49m\u001b[43m,\u001b[49m\u001b[43m \u001b[49m\u001b[38;5;241;43m*\u001b[39;49m\u001b[43margs\u001b[49m\u001b[43m,\u001b[49m\u001b[43m \u001b[49m\u001b[38;5;241;43m*\u001b[39;49m\u001b[38;5;241;43m*\u001b[39;49m\u001b[43mkwargs\u001b[49m\u001b[43m)\u001b[49m\n\u001b[1;32m    583\u001b[0m     \u001b[38;5;28;01mif\u001b[39;00m \u001b[38;5;28mhasattr\u001b[39m(\u001b[38;5;28mself\u001b[39m, \u001b[38;5;124m'\u001b[39m\u001b[38;5;124mload\u001b[39m\u001b[38;5;124m'\u001b[39m):\n\u001b[1;32m    584\u001b[0m         \u001b[38;5;66;03m# Clear cached data. It will be reloaded the next\u001b[39;00m\n\u001b[1;32m    585\u001b[0m         \u001b[38;5;66;03m# time that an attribute is accessed.\u001b[39;00m\n\u001b[1;32m    586\u001b[0m         \u001b[38;5;66;03m# TODO: Make this configurable in the future?\u001b[39;00m\n\u001b[1;32m    587\u001b[0m         \u001b[38;5;28mself\u001b[39m\u001b[38;5;241m.\u001b[39mmeta\u001b[38;5;241m.\u001b[39mdata \u001b[38;5;241m=\u001b[39m \u001b[38;5;28;01mNone\u001b[39;00m\n",
      "File \u001b[0;32m/opt/conda/lib/python3.10/site-packages/boto3/resources/action.py:88\u001b[0m, in \u001b[0;36mServiceAction.__call__\u001b[0;34m(self, parent, *args, **kwargs)\u001b[0m\n\u001b[1;32m     79\u001b[0m params\u001b[38;5;241m.\u001b[39mupdate(kwargs)\n\u001b[1;32m     81\u001b[0m logger\u001b[38;5;241m.\u001b[39mdebug(\n\u001b[1;32m     82\u001b[0m     \u001b[38;5;124m'\u001b[39m\u001b[38;5;124mCalling \u001b[39m\u001b[38;5;132;01m%s\u001b[39;00m\u001b[38;5;124m:\u001b[39m\u001b[38;5;132;01m%s\u001b[39;00m\u001b[38;5;124m with \u001b[39m\u001b[38;5;132;01m%r\u001b[39;00m\u001b[38;5;124m'\u001b[39m,\n\u001b[1;32m     83\u001b[0m     parent\u001b[38;5;241m.\u001b[39mmeta\u001b[38;5;241m.\u001b[39mservice_name,\n\u001b[1;32m     84\u001b[0m     operation_name,\n\u001b[1;32m     85\u001b[0m     params,\n\u001b[1;32m     86\u001b[0m )\n\u001b[0;32m---> 88\u001b[0m response \u001b[38;5;241m=\u001b[39m \u001b[38;5;28;43mgetattr\u001b[39;49m\u001b[43m(\u001b[49m\u001b[43mparent\u001b[49m\u001b[38;5;241;43m.\u001b[39;49m\u001b[43mmeta\u001b[49m\u001b[38;5;241;43m.\u001b[39;49m\u001b[43mclient\u001b[49m\u001b[43m,\u001b[49m\u001b[43m \u001b[49m\u001b[43moperation_name\u001b[49m\u001b[43m)\u001b[49m\u001b[43m(\u001b[49m\u001b[38;5;241;43m*\u001b[39;49m\u001b[43margs\u001b[49m\u001b[43m,\u001b[49m\u001b[43m \u001b[49m\u001b[38;5;241;43m*\u001b[39;49m\u001b[38;5;241;43m*\u001b[39;49m\u001b[43mparams\u001b[49m\u001b[43m)\u001b[49m\n\u001b[1;32m     90\u001b[0m logger\u001b[38;5;241m.\u001b[39mdebug(\u001b[38;5;124m'\u001b[39m\u001b[38;5;124mResponse: \u001b[39m\u001b[38;5;132;01m%r\u001b[39;00m\u001b[38;5;124m'\u001b[39m, response)\n\u001b[1;32m     92\u001b[0m \u001b[38;5;28;01mreturn\u001b[39;00m \u001b[38;5;28mself\u001b[39m\u001b[38;5;241m.\u001b[39m_response_handler(parent, params, response)\n",
      "File \u001b[0;32m/opt/conda/lib/python3.10/site-packages/botocore/client.py:565\u001b[0m, in \u001b[0;36mClientCreator._create_api_method.<locals>._api_call\u001b[0;34m(self, *args, **kwargs)\u001b[0m\n\u001b[1;32m    561\u001b[0m     \u001b[38;5;28;01mraise\u001b[39;00m \u001b[38;5;167;01mTypeError\u001b[39;00m(\n\u001b[1;32m    562\u001b[0m         \u001b[38;5;124mf\u001b[39m\u001b[38;5;124m\"\u001b[39m\u001b[38;5;132;01m{\u001b[39;00mpy_operation_name\u001b[38;5;132;01m}\u001b[39;00m\u001b[38;5;124m() only accepts keyword arguments.\u001b[39m\u001b[38;5;124m\"\u001b[39m\n\u001b[1;32m    563\u001b[0m     )\n\u001b[1;32m    564\u001b[0m \u001b[38;5;66;03m# The \"self\" in this scope is referring to the BaseClient.\u001b[39;00m\n\u001b[0;32m--> 565\u001b[0m \u001b[38;5;28;01mreturn\u001b[39;00m \u001b[38;5;28;43mself\u001b[39;49m\u001b[38;5;241;43m.\u001b[39;49m\u001b[43m_make_api_call\u001b[49m\u001b[43m(\u001b[49m\u001b[43moperation_name\u001b[49m\u001b[43m,\u001b[49m\u001b[43m \u001b[49m\u001b[43mkwargs\u001b[49m\u001b[43m)\u001b[49m\n",
      "File \u001b[0;32m/opt/conda/lib/python3.10/site-packages/botocore/client.py:1021\u001b[0m, in \u001b[0;36mBaseClient._make_api_call\u001b[0;34m(self, operation_name, api_params)\u001b[0m\n\u001b[1;32m   1017\u001b[0m     error_code \u001b[38;5;241m=\u001b[39m error_info\u001b[38;5;241m.\u001b[39mget(\u001b[38;5;124m\"\u001b[39m\u001b[38;5;124mQueryErrorCode\u001b[39m\u001b[38;5;124m\"\u001b[39m) \u001b[38;5;129;01mor\u001b[39;00m error_info\u001b[38;5;241m.\u001b[39mget(\n\u001b[1;32m   1018\u001b[0m         \u001b[38;5;124m\"\u001b[39m\u001b[38;5;124mCode\u001b[39m\u001b[38;5;124m\"\u001b[39m\n\u001b[1;32m   1019\u001b[0m     )\n\u001b[1;32m   1020\u001b[0m     error_class \u001b[38;5;241m=\u001b[39m \u001b[38;5;28mself\u001b[39m\u001b[38;5;241m.\u001b[39mexceptions\u001b[38;5;241m.\u001b[39mfrom_code(error_code)\n\u001b[0;32m-> 1021\u001b[0m     \u001b[38;5;28;01mraise\u001b[39;00m error_class(parsed_response, operation_name)\n\u001b[1;32m   1022\u001b[0m \u001b[38;5;28;01melse\u001b[39;00m:\n\u001b[1;32m   1023\u001b[0m     \u001b[38;5;28;01mreturn\u001b[39;00m parsed_response\n",
      "\u001b[0;31mNoSuchKey\u001b[0m: An error occurred (NoSuchKey) when calling the CopyObject operation: The specified key does not exist."
     ]
    }
   ],
   "source": [
    "imgkey = \"ai_services_assets/custom_labels/datasets/multi_class_flowers/test/camellia4.jpgets-custom_labels-datasets-multi_class_flowers-test-camellia4.jpg\"\n",
    "filename = \"delme1.jpg\"\n",
    "#boto3.resource('s3').Object(S3_BUCKET, filename ).copy_from(CopySource=f\"{source_bucket}/{imgkey}\")\n",
    "boto3.resource('s3').Object(S3_BUCKET, filename ).copy_from(CopySource=f\"jumpstart-cache-prod-us-west-1/{imgkey}\")\n"
   ]
  },
  {
   "cell_type": "code",
   "execution_count": 88,
   "id": "cf8a8728-3fb4-417f-acde-db78852ed8f9",
   "metadata": {},
   "outputs": [
    {
     "ename": "NameError",
     "evalue": "name 'bucket_name' is not defined",
     "output_type": "error",
     "traceback": [
      "\u001b[0;31m---------------------------------------------------------------------------\u001b[0m",
      "\u001b[0;31mNameError\u001b[0m                                 Traceback (most recent call last)",
      "Cell \u001b[0;32mIn[88], line 3\u001b[0m\n\u001b[1;32m      1\u001b[0m s3 \u001b[38;5;241m=\u001b[39m boto3\u001b[38;5;241m.\u001b[39mclient(\u001b[38;5;124m'\u001b[39m\u001b[38;5;124ms3\u001b[39m\u001b[38;5;124m'\u001b[39m)\n\u001b[1;32m      2\u001b[0m paginator \u001b[38;5;241m=\u001b[39m s3\u001b[38;5;241m.\u001b[39mget_paginator(\u001b[38;5;124m'\u001b[39m\u001b[38;5;124mlist_objects_v2\u001b[39m\u001b[38;5;124m'\u001b[39m)\n\u001b[0;32m----> 3\u001b[0m page_iterator \u001b[38;5;241m=\u001b[39m paginator\u001b[38;5;241m.\u001b[39mpaginate(Bucket\u001b[38;5;241m=\u001b[39m\u001b[43mbucket_name\u001b[49m,Prefix\u001b[38;5;241m=\u001b[39mprefix)\n\u001b[1;32m      5\u001b[0m objlist \u001b[38;5;241m=\u001b[39m []\n\u001b[1;32m      6\u001b[0m \u001b[38;5;28;01mfor\u001b[39;00m page \u001b[38;5;129;01min\u001b[39;00m page_iterator:\n",
      "\u001b[0;31mNameError\u001b[0m: name 'bucket_name' is not defined"
     ]
    }
   ],
   "source": [
    "\n",
    "s3 = boto3.client('s3')\n",
    "paginator = s3.get_paginator('list_objects_v2')\n",
    "page_iterator = paginator.paginate(Bucket=bucket_name,Prefix=prefix)\n",
    "\n",
    "objlist = []\n",
    "for page in page_iterator:\n",
    "    if 'Contents' in page:\n",
    "        for obj in page['Contents']:\n",
    "            objkey = obj[\"Key\"]\n",
    "            if objkey[len(objkey)-len(suffix):] == suffix:\n",
    "                objlist.append( objkey.replace(prefix, \"\"))"
   ]
  },
  {
   "cell_type": "code",
   "execution_count": null,
   "id": "45abe487-6000-4e6c-b23d-9f13da1c10a9",
   "metadata": {},
   "outputs": [],
   "source": []
  }
 ],
 "metadata": {
  "availableInstances": [
   {
    "_defaultOrder": 0,
    "_isFastLaunch": true,
    "category": "General purpose",
    "gpuNum": 0,
    "hideHardwareSpecs": false,
    "memoryGiB": 4,
    "name": "ml.t3.medium",
    "vcpuNum": 2
   },
   {
    "_defaultOrder": 1,
    "_isFastLaunch": false,
    "category": "General purpose",
    "gpuNum": 0,
    "hideHardwareSpecs": false,
    "memoryGiB": 8,
    "name": "ml.t3.large",
    "vcpuNum": 2
   },
   {
    "_defaultOrder": 2,
    "_isFastLaunch": false,
    "category": "General purpose",
    "gpuNum": 0,
    "hideHardwareSpecs": false,
    "memoryGiB": 16,
    "name": "ml.t3.xlarge",
    "vcpuNum": 4
   },
   {
    "_defaultOrder": 3,
    "_isFastLaunch": false,
    "category": "General purpose",
    "gpuNum": 0,
    "hideHardwareSpecs": false,
    "memoryGiB": 32,
    "name": "ml.t3.2xlarge",
    "vcpuNum": 8
   },
   {
    "_defaultOrder": 4,
    "_isFastLaunch": true,
    "category": "General purpose",
    "gpuNum": 0,
    "hideHardwareSpecs": false,
    "memoryGiB": 8,
    "name": "ml.m5.large",
    "vcpuNum": 2
   },
   {
    "_defaultOrder": 5,
    "_isFastLaunch": false,
    "category": "General purpose",
    "gpuNum": 0,
    "hideHardwareSpecs": false,
    "memoryGiB": 16,
    "name": "ml.m5.xlarge",
    "vcpuNum": 4
   },
   {
    "_defaultOrder": 6,
    "_isFastLaunch": false,
    "category": "General purpose",
    "gpuNum": 0,
    "hideHardwareSpecs": false,
    "memoryGiB": 32,
    "name": "ml.m5.2xlarge",
    "vcpuNum": 8
   },
   {
    "_defaultOrder": 7,
    "_isFastLaunch": false,
    "category": "General purpose",
    "gpuNum": 0,
    "hideHardwareSpecs": false,
    "memoryGiB": 64,
    "name": "ml.m5.4xlarge",
    "vcpuNum": 16
   },
   {
    "_defaultOrder": 8,
    "_isFastLaunch": false,
    "category": "General purpose",
    "gpuNum": 0,
    "hideHardwareSpecs": false,
    "memoryGiB": 128,
    "name": "ml.m5.8xlarge",
    "vcpuNum": 32
   },
   {
    "_defaultOrder": 9,
    "_isFastLaunch": false,
    "category": "General purpose",
    "gpuNum": 0,
    "hideHardwareSpecs": false,
    "memoryGiB": 192,
    "name": "ml.m5.12xlarge",
    "vcpuNum": 48
   },
   {
    "_defaultOrder": 10,
    "_isFastLaunch": false,
    "category": "General purpose",
    "gpuNum": 0,
    "hideHardwareSpecs": false,
    "memoryGiB": 256,
    "name": "ml.m5.16xlarge",
    "vcpuNum": 64
   },
   {
    "_defaultOrder": 11,
    "_isFastLaunch": false,
    "category": "General purpose",
    "gpuNum": 0,
    "hideHardwareSpecs": false,
    "memoryGiB": 384,
    "name": "ml.m5.24xlarge",
    "vcpuNum": 96
   },
   {
    "_defaultOrder": 12,
    "_isFastLaunch": false,
    "category": "General purpose",
    "gpuNum": 0,
    "hideHardwareSpecs": false,
    "memoryGiB": 8,
    "name": "ml.m5d.large",
    "vcpuNum": 2
   },
   {
    "_defaultOrder": 13,
    "_isFastLaunch": false,
    "category": "General purpose",
    "gpuNum": 0,
    "hideHardwareSpecs": false,
    "memoryGiB": 16,
    "name": "ml.m5d.xlarge",
    "vcpuNum": 4
   },
   {
    "_defaultOrder": 14,
    "_isFastLaunch": false,
    "category": "General purpose",
    "gpuNum": 0,
    "hideHardwareSpecs": false,
    "memoryGiB": 32,
    "name": "ml.m5d.2xlarge",
    "vcpuNum": 8
   },
   {
    "_defaultOrder": 15,
    "_isFastLaunch": false,
    "category": "General purpose",
    "gpuNum": 0,
    "hideHardwareSpecs": false,
    "memoryGiB": 64,
    "name": "ml.m5d.4xlarge",
    "vcpuNum": 16
   },
   {
    "_defaultOrder": 16,
    "_isFastLaunch": false,
    "category": "General purpose",
    "gpuNum": 0,
    "hideHardwareSpecs": false,
    "memoryGiB": 128,
    "name": "ml.m5d.8xlarge",
    "vcpuNum": 32
   },
   {
    "_defaultOrder": 17,
    "_isFastLaunch": false,
    "category": "General purpose",
    "gpuNum": 0,
    "hideHardwareSpecs": false,
    "memoryGiB": 192,
    "name": "ml.m5d.12xlarge",
    "vcpuNum": 48
   },
   {
    "_defaultOrder": 18,
    "_isFastLaunch": false,
    "category": "General purpose",
    "gpuNum": 0,
    "hideHardwareSpecs": false,
    "memoryGiB": 256,
    "name": "ml.m5d.16xlarge",
    "vcpuNum": 64
   },
   {
    "_defaultOrder": 19,
    "_isFastLaunch": false,
    "category": "General purpose",
    "gpuNum": 0,
    "hideHardwareSpecs": false,
    "memoryGiB": 384,
    "name": "ml.m5d.24xlarge",
    "vcpuNum": 96
   },
   {
    "_defaultOrder": 20,
    "_isFastLaunch": false,
    "category": "General purpose",
    "gpuNum": 0,
    "hideHardwareSpecs": true,
    "memoryGiB": 0,
    "name": "ml.geospatial.interactive",
    "supportedImageNames": [
     "sagemaker-geospatial-v1-0"
    ],
    "vcpuNum": 0
   },
   {
    "_defaultOrder": 21,
    "_isFastLaunch": true,
    "category": "Compute optimized",
    "gpuNum": 0,
    "hideHardwareSpecs": false,
    "memoryGiB": 4,
    "name": "ml.c5.large",
    "vcpuNum": 2
   },
   {
    "_defaultOrder": 22,
    "_isFastLaunch": false,
    "category": "Compute optimized",
    "gpuNum": 0,
    "hideHardwareSpecs": false,
    "memoryGiB": 8,
    "name": "ml.c5.xlarge",
    "vcpuNum": 4
   },
   {
    "_defaultOrder": 23,
    "_isFastLaunch": false,
    "category": "Compute optimized",
    "gpuNum": 0,
    "hideHardwareSpecs": false,
    "memoryGiB": 16,
    "name": "ml.c5.2xlarge",
    "vcpuNum": 8
   },
   {
    "_defaultOrder": 24,
    "_isFastLaunch": false,
    "category": "Compute optimized",
    "gpuNum": 0,
    "hideHardwareSpecs": false,
    "memoryGiB": 32,
    "name": "ml.c5.4xlarge",
    "vcpuNum": 16
   },
   {
    "_defaultOrder": 25,
    "_isFastLaunch": false,
    "category": "Compute optimized",
    "gpuNum": 0,
    "hideHardwareSpecs": false,
    "memoryGiB": 72,
    "name": "ml.c5.9xlarge",
    "vcpuNum": 36
   },
   {
    "_defaultOrder": 26,
    "_isFastLaunch": false,
    "category": "Compute optimized",
    "gpuNum": 0,
    "hideHardwareSpecs": false,
    "memoryGiB": 96,
    "name": "ml.c5.12xlarge",
    "vcpuNum": 48
   },
   {
    "_defaultOrder": 27,
    "_isFastLaunch": false,
    "category": "Compute optimized",
    "gpuNum": 0,
    "hideHardwareSpecs": false,
    "memoryGiB": 144,
    "name": "ml.c5.18xlarge",
    "vcpuNum": 72
   },
   {
    "_defaultOrder": 28,
    "_isFastLaunch": false,
    "category": "Compute optimized",
    "gpuNum": 0,
    "hideHardwareSpecs": false,
    "memoryGiB": 192,
    "name": "ml.c5.24xlarge",
    "vcpuNum": 96
   },
   {
    "_defaultOrder": 29,
    "_isFastLaunch": true,
    "category": "Accelerated computing",
    "gpuNum": 1,
    "hideHardwareSpecs": false,
    "memoryGiB": 16,
    "name": "ml.g4dn.xlarge",
    "vcpuNum": 4
   },
   {
    "_defaultOrder": 30,
    "_isFastLaunch": false,
    "category": "Accelerated computing",
    "gpuNum": 1,
    "hideHardwareSpecs": false,
    "memoryGiB": 32,
    "name": "ml.g4dn.2xlarge",
    "vcpuNum": 8
   },
   {
    "_defaultOrder": 31,
    "_isFastLaunch": false,
    "category": "Accelerated computing",
    "gpuNum": 1,
    "hideHardwareSpecs": false,
    "memoryGiB": 64,
    "name": "ml.g4dn.4xlarge",
    "vcpuNum": 16
   },
   {
    "_defaultOrder": 32,
    "_isFastLaunch": false,
    "category": "Accelerated computing",
    "gpuNum": 1,
    "hideHardwareSpecs": false,
    "memoryGiB": 128,
    "name": "ml.g4dn.8xlarge",
    "vcpuNum": 32
   },
   {
    "_defaultOrder": 33,
    "_isFastLaunch": false,
    "category": "Accelerated computing",
    "gpuNum": 4,
    "hideHardwareSpecs": false,
    "memoryGiB": 192,
    "name": "ml.g4dn.12xlarge",
    "vcpuNum": 48
   },
   {
    "_defaultOrder": 34,
    "_isFastLaunch": false,
    "category": "Accelerated computing",
    "gpuNum": 1,
    "hideHardwareSpecs": false,
    "memoryGiB": 256,
    "name": "ml.g4dn.16xlarge",
    "vcpuNum": 64
   },
   {
    "_defaultOrder": 35,
    "_isFastLaunch": false,
    "category": "Accelerated computing",
    "gpuNum": 1,
    "hideHardwareSpecs": false,
    "memoryGiB": 61,
    "name": "ml.p3.2xlarge",
    "vcpuNum": 8
   },
   {
    "_defaultOrder": 36,
    "_isFastLaunch": false,
    "category": "Accelerated computing",
    "gpuNum": 4,
    "hideHardwareSpecs": false,
    "memoryGiB": 244,
    "name": "ml.p3.8xlarge",
    "vcpuNum": 32
   },
   {
    "_defaultOrder": 37,
    "_isFastLaunch": false,
    "category": "Accelerated computing",
    "gpuNum": 8,
    "hideHardwareSpecs": false,
    "memoryGiB": 488,
    "name": "ml.p3.16xlarge",
    "vcpuNum": 64
   },
   {
    "_defaultOrder": 38,
    "_isFastLaunch": false,
    "category": "Accelerated computing",
    "gpuNum": 8,
    "hideHardwareSpecs": false,
    "memoryGiB": 768,
    "name": "ml.p3dn.24xlarge",
    "vcpuNum": 96
   },
   {
    "_defaultOrder": 39,
    "_isFastLaunch": false,
    "category": "Memory Optimized",
    "gpuNum": 0,
    "hideHardwareSpecs": false,
    "memoryGiB": 16,
    "name": "ml.r5.large",
    "vcpuNum": 2
   },
   {
    "_defaultOrder": 40,
    "_isFastLaunch": false,
    "category": "Memory Optimized",
    "gpuNum": 0,
    "hideHardwareSpecs": false,
    "memoryGiB": 32,
    "name": "ml.r5.xlarge",
    "vcpuNum": 4
   },
   {
    "_defaultOrder": 41,
    "_isFastLaunch": false,
    "category": "Memory Optimized",
    "gpuNum": 0,
    "hideHardwareSpecs": false,
    "memoryGiB": 64,
    "name": "ml.r5.2xlarge",
    "vcpuNum": 8
   },
   {
    "_defaultOrder": 42,
    "_isFastLaunch": false,
    "category": "Memory Optimized",
    "gpuNum": 0,
    "hideHardwareSpecs": false,
    "memoryGiB": 128,
    "name": "ml.r5.4xlarge",
    "vcpuNum": 16
   },
   {
    "_defaultOrder": 43,
    "_isFastLaunch": false,
    "category": "Memory Optimized",
    "gpuNum": 0,
    "hideHardwareSpecs": false,
    "memoryGiB": 256,
    "name": "ml.r5.8xlarge",
    "vcpuNum": 32
   },
   {
    "_defaultOrder": 44,
    "_isFastLaunch": false,
    "category": "Memory Optimized",
    "gpuNum": 0,
    "hideHardwareSpecs": false,
    "memoryGiB": 384,
    "name": "ml.r5.12xlarge",
    "vcpuNum": 48
   },
   {
    "_defaultOrder": 45,
    "_isFastLaunch": false,
    "category": "Memory Optimized",
    "gpuNum": 0,
    "hideHardwareSpecs": false,
    "memoryGiB": 512,
    "name": "ml.r5.16xlarge",
    "vcpuNum": 64
   },
   {
    "_defaultOrder": 46,
    "_isFastLaunch": false,
    "category": "Memory Optimized",
    "gpuNum": 0,
    "hideHardwareSpecs": false,
    "memoryGiB": 768,
    "name": "ml.r5.24xlarge",
    "vcpuNum": 96
   },
   {
    "_defaultOrder": 47,
    "_isFastLaunch": false,
    "category": "Accelerated computing",
    "gpuNum": 1,
    "hideHardwareSpecs": false,
    "memoryGiB": 16,
    "name": "ml.g5.xlarge",
    "vcpuNum": 4
   },
   {
    "_defaultOrder": 48,
    "_isFastLaunch": false,
    "category": "Accelerated computing",
    "gpuNum": 1,
    "hideHardwareSpecs": false,
    "memoryGiB": 32,
    "name": "ml.g5.2xlarge",
    "vcpuNum": 8
   },
   {
    "_defaultOrder": 49,
    "_isFastLaunch": false,
    "category": "Accelerated computing",
    "gpuNum": 1,
    "hideHardwareSpecs": false,
    "memoryGiB": 64,
    "name": "ml.g5.4xlarge",
    "vcpuNum": 16
   },
   {
    "_defaultOrder": 50,
    "_isFastLaunch": false,
    "category": "Accelerated computing",
    "gpuNum": 1,
    "hideHardwareSpecs": false,
    "memoryGiB": 128,
    "name": "ml.g5.8xlarge",
    "vcpuNum": 32
   },
   {
    "_defaultOrder": 51,
    "_isFastLaunch": false,
    "category": "Accelerated computing",
    "gpuNum": 1,
    "hideHardwareSpecs": false,
    "memoryGiB": 256,
    "name": "ml.g5.16xlarge",
    "vcpuNum": 64
   },
   {
    "_defaultOrder": 52,
    "_isFastLaunch": false,
    "category": "Accelerated computing",
    "gpuNum": 4,
    "hideHardwareSpecs": false,
    "memoryGiB": 192,
    "name": "ml.g5.12xlarge",
    "vcpuNum": 48
   },
   {
    "_defaultOrder": 53,
    "_isFastLaunch": false,
    "category": "Accelerated computing",
    "gpuNum": 4,
    "hideHardwareSpecs": false,
    "memoryGiB": 384,
    "name": "ml.g5.24xlarge",
    "vcpuNum": 96
   },
   {
    "_defaultOrder": 54,
    "_isFastLaunch": false,
    "category": "Accelerated computing",
    "gpuNum": 8,
    "hideHardwareSpecs": false,
    "memoryGiB": 768,
    "name": "ml.g5.48xlarge",
    "vcpuNum": 192
   },
   {
    "_defaultOrder": 55,
    "_isFastLaunch": false,
    "category": "Accelerated computing",
    "gpuNum": 8,
    "hideHardwareSpecs": false,
    "memoryGiB": 1152,
    "name": "ml.p4d.24xlarge",
    "vcpuNum": 96
   },
   {
    "_defaultOrder": 56,
    "_isFastLaunch": false,
    "category": "Accelerated computing",
    "gpuNum": 8,
    "hideHardwareSpecs": false,
    "memoryGiB": 1152,
    "name": "ml.p4de.24xlarge",
    "vcpuNum": 96
   },
   {
    "_defaultOrder": 57,
    "_isFastLaunch": false,
    "category": "Accelerated computing",
    "gpuNum": 0,
    "hideHardwareSpecs": false,
    "memoryGiB": 32,
    "name": "ml.trn1.2xlarge",
    "vcpuNum": 8
   },
   {
    "_defaultOrder": 58,
    "_isFastLaunch": false,
    "category": "Accelerated computing",
    "gpuNum": 0,
    "hideHardwareSpecs": false,
    "memoryGiB": 512,
    "name": "ml.trn1.32xlarge",
    "vcpuNum": 128
   },
   {
    "_defaultOrder": 59,
    "_isFastLaunch": false,
    "category": "Accelerated computing",
    "gpuNum": 0,
    "hideHardwareSpecs": false,
    "memoryGiB": 512,
    "name": "ml.trn1n.32xlarge",
    "vcpuNum": 128
   }
  ],
  "instance_type": "ml.t3.medium",
  "kernelspec": {
   "display_name": "Python 3 (Data Science 3.0)",
   "language": "python",
   "name": "python3__SAGEMAKER_INTERNAL__arn:aws:sagemaker:us-west-1:742091327244:image/sagemaker-data-science-310-v1"
  },
  "language_info": {
   "codemirror_mode": {
    "name": "ipython",
    "version": 3
   },
   "file_extension": ".py",
   "mimetype": "text/x-python",
   "name": "python",
   "nbconvert_exporter": "python",
   "pygments_lexer": "ipython3",
   "version": "3.10.6"
  }
 },
 "nbformat": 4,
 "nbformat_minor": 5
}
