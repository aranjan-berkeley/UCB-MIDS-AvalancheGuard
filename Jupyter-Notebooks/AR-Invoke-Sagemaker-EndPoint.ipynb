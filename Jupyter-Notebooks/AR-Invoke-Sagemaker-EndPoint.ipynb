{
 "cells": [
  {
   "cell_type": "markdown",
   "id": "a8a1d3e3-c147-4b63-88b2-4c3c1af5150b",
   "metadata": {},
   "source": [
    "# Invoke Endpoint"
   ]
  },
  {
   "cell_type": "code",
   "execution_count": 2,
   "id": "6168773e-cc00-441f-877b-917e001fd7d7",
   "metadata": {},
   "outputs": [],
   "source": [
    "import boto3"
   ]
  },
  {
   "cell_type": "code",
   "execution_count": 27,
   "id": "a2e95be0-c5da-4e8d-9cf3-0aab49038e72",
   "metadata": {},
   "outputs": [],
   "source": [
    "import sagemaker, boto3, json\n",
    "from sagemaker.session import Session\n",
    "import IPython\n",
    "import json\n",
    "from IPython.core.display import HTML\n",
    "import base64\n",
    "import time\n"
   ]
  },
  {
   "cell_type": "code",
   "execution_count": 4,
   "id": "65267586-481b-4141-afa7-cbe0c4a083d0",
   "metadata": {},
   "outputs": [],
   "source": [
    "sagemaker_session = Session()\n",
    "aws_role = sagemaker_session.get_caller_identity_arn()\n",
    "aws_region = boto3.Session().region_name\n",
    "sess = sagemaker.Session()"
   ]
  },
  {
   "cell_type": "code",
   "execution_count": 5,
   "id": "420ba240-462a-4e8e-b031-4daa27b36366",
   "metadata": {},
   "outputs": [
    {
     "name": "stdout",
     "output_type": "stream",
     "text": [
      "{'UserId': 'AROAV7S4W3BO46HO2V6RH:SageMaker', 'Account': '411437553757', 'Arn': 'arn:aws:sts::411437553757:assumed-role/AmazonSageMaker-ExecutionRole-20240613T154918/SageMaker', 'ResponseMetadata': {'RequestId': 'b384caea-c312-4256-bff0-f179a90acb41', 'HTTPStatusCode': 200, 'HTTPHeaders': {'x-amzn-requestid': 'b384caea-c312-4256-bff0-f179a90acb41', 'content-type': 'text/xml', 'content-length': '470', 'date': 'Sat, 29 Jun 2024 00:04:28 GMT'}, 'RetryAttempts': 0}}\n"
     ]
    }
   ],
   "source": [
    "\n",
    "sts = boto3.client('sts')\n",
    "print(sts.get_caller_identity())"
   ]
  },
  {
   "cell_type": "markdown",
   "id": "7222bcb8-556d-4dba-b51b-3b6883ad23b3",
   "metadata": {},
   "source": [
    "## Helper Code"
   ]
  },
  {
   "cell_type": "code",
   "execution_count": 6,
   "id": "4c503533-4845-4b28-ab06-b4ae48807d2a",
   "metadata": {},
   "outputs": [],
   "source": [
    "# Get bucket contents as a list\n",
    "def list_all_s3_objects(bucket_name:str, prefix:str)-> [str]:\n",
    "    s3 = boto3.client('s3')\n",
    "    paginator = s3.get_paginator('list_objects_v2')\n",
    "    page_iterator = paginator.paginate(Bucket=bucket_name,Prefix=prefix)\n",
    "\n",
    "    objlist = []\n",
    "    for page in page_iterator:\n",
    "        if 'Contents' in page:\n",
    "            for obj in page['Contents']:\n",
    "                objlist.append( obj[\"Key\"].replace(prefix, \"\"))\n",
    "\n",
    "    return objlist"
   ]
  },
  {
   "cell_type": "code",
   "execution_count": 7,
   "id": "fcf09ee2-240e-463c-aba8-f1de7c1cb291",
   "metadata": {},
   "outputs": [],
   "source": [
    "# download file from s3 and store in local folder (filename is relative to the current folder) \n",
    "# images is a dictionary {localfilename : s3file_key}\n",
    "def download_from_s3(images):\n",
    "    for filename, image_key in images.items():\n",
    "        print(\"Downloading {0} - {1} - {2} - {3}\".format(s3_bucket,key_prefix,image_key,filename))\n",
    "        boto3.client(\"s3\").download_file(s3_bucket, f\"{key_prefix}{image_key}\", filename)    \n"
   ]
  },
  {
   "cell_type": "code",
   "execution_count": 41,
   "id": "5fa879b5-9153-4863-baa0-7ec39923b42f",
   "metadata": {},
   "outputs": [],
   "source": [
    "def infer_image_from_endpoint(endpointName,image_filename):\n",
    "\n",
    "    #init client\n",
    "    client = boto3.client('sagemaker-runtime')\n",
    "\n",
    "    # open the file name\n",
    "    with open(image_filename, \"rb\") as file:\n",
    "        img = file.read()\n",
    "        body_content = base64.b64decode(img)\n",
    "        # Call the endpoint with the image in memory. The endpoint is invoked and a result is recorded.\n",
    "        response = client.invoke_endpoint(\n",
    "            EndpointName=endpointName,\n",
    "            ContentType=\"application/x-image\",\n",
    "            Body=img\n",
    "        )\n",
    "        result = json.loads(response['Body'].read().decode())\n",
    "        predicted_label_probs = result['probabilities']\n",
    "        positive_prob = predicted_label_probs[0]\n",
    "        negative_prob = predicted_label_probs[1]\n",
    "        \n",
    "        if abs(positive_prob-negative_prob) < .1:\n",
    "            label = 'Not Sure'\n",
    "            prob = positive_prob\n",
    "        elif positive_prob > negative_prob:\n",
    "            label = 'Positive'\n",
    "            prob = positive_prob\n",
    "        else:\n",
    "            label = 'Negative'\n",
    "            prob = negative_prob\n",
    "            \n",
    "        \n",
    "    \n",
    "        display(\n",
    "                HTML(\n",
    "                    f'<img src={image_filename} alt={image_filename} align=\"left\" style=\"width: 450px;\"/>'\n",
    "                    f\"<figcaption>Predicted Label: <b>{label}</b> (Probability: {prob}) </figcaption>\"\n",
    "                )\n",
    "            )\n",
    "        \n",
    "    return None"
   ]
  },
  {
   "cell_type": "code",
   "execution_count": 42,
   "id": "9796013d-778c-4151-9891-b7a447b01745",
   "metadata": {},
   "outputs": [
    {
     "name": "stdout",
     "output_type": "stream",
     "text": [
      "Downloading {'temp/img01.jpg': '2015-01-01 hafelekar (3).jpg'}\n",
      "Downloading s3-avalanche-guard - data/cv/uibk/ResNetClassify/validation/negative/ - 2015-01-01 hafelekar (3).jpg - temp/img01.jpg\n"
     ]
    },
    {
     "data": {
      "text/html": [
       "<img src=temp/img01.jpg alt=temp/img01.jpg align=\"left\" style=\"width: 450px;\"/><figcaption>Predicted Label: <b>Negative</b> (Probability: 0.880935311) </figcaption>"
      ],
      "text/plain": [
       "<IPython.core.display.HTML object>"
      ]
     },
     "metadata": {},
     "output_type": "display_data"
    },
    {
     "name": "stdout",
     "output_type": "stream",
     "text": [
      "Downloading {'temp/img01.jpg': '2015-01-01 kuehtai (7).jpg'}\n",
      "Downloading s3-avalanche-guard - data/cv/uibk/ResNetClassify/validation/negative/ - 2015-01-01 kuehtai (7).jpg - temp/img01.jpg\n"
     ]
    },
    {
     "data": {
      "text/html": [
       "<img src=temp/img01.jpg alt=temp/img01.jpg align=\"left\" style=\"width: 450px;\"/><figcaption>Predicted Label: <b>Negative</b> (Probability: 0.717617095) </figcaption>"
      ],
      "text/plain": [
       "<IPython.core.display.HTML object>"
      ]
     },
     "metadata": {},
     "output_type": "display_data"
    },
    {
     "name": "stdout",
     "output_type": "stream",
     "text": [
      "Downloading {'temp/img01.jpg': '2015-01-03 mitterzeigerkopf (6).jpg'}\n",
      "Downloading s3-avalanche-guard - data/cv/uibk/ResNetClassify/validation/negative/ - 2015-01-03 mitterzeigerkopf (6).jpg - temp/img01.jpg\n"
     ]
    },
    {
     "data": {
      "text/html": [
       "<img src=temp/img01.jpg alt=temp/img01.jpg align=\"left\" style=\"width: 450px;\"/><figcaption>Predicted Label: <b>Negative</b> (Probability: 0.765957713) </figcaption>"
      ],
      "text/plain": [
       "<IPython.core.display.HTML object>"
      ]
     },
     "metadata": {},
     "output_type": "display_data"
    },
    {
     "name": "stdout",
     "output_type": "stream",
     "text": [
      "Downloading {'temp/img01.jpg': '2015-01-05 obergurgl (5).jpg'}\n",
      "Downloading s3-avalanche-guard - data/cv/uibk/ResNetClassify/validation/negative/ - 2015-01-05 obergurgl (5).jpg - temp/img01.jpg\n"
     ]
    },
    {
     "data": {
      "text/html": [
       "<img src=temp/img01.jpg alt=temp/img01.jpg align=\"left\" style=\"width: 450px;\"/><figcaption>Predicted Label: <b>Negative</b> (Probability: 0.700686157) </figcaption>"
      ],
      "text/plain": [
       "<IPython.core.display.HTML object>"
      ]
     },
     "metadata": {},
     "output_type": "display_data"
    },
    {
     "name": "stdout",
     "output_type": "stream",
     "text": [
      "Downloading {'temp/img01.jpg': '2015-01-15 heidelberger huette (4).jpg'}\n",
      "Downloading s3-avalanche-guard - data/cv/uibk/ResNetClassify/validation/negative/ - 2015-01-15 heidelberger huette (4).jpg - temp/img01.jpg\n"
     ]
    },
    {
     "data": {
      "text/html": [
       "<img src=temp/img01.jpg alt=temp/img01.jpg align=\"left\" style=\"width: 450px;\"/><figcaption>Predicted Label: <b>Not Sure</b> (Probability: 0.452311218) </figcaption>"
      ],
      "text/plain": [
       "<IPython.core.display.HTML object>"
      ]
     },
     "metadata": {},
     "output_type": "display_data"
    },
    {
     "name": "stdout",
     "output_type": "stream",
     "text": [
      "Downloading {'temp/img01.jpg': '2015-01-19 oberndorf (57).jpg'}\n",
      "Downloading s3-avalanche-guard - data/cv/uibk/ResNetClassify/validation/negative/ - 2015-01-19 oberndorf (57).jpg - temp/img01.jpg\n"
     ]
    },
    {
     "data": {
      "text/html": [
       "<img src=temp/img01.jpg alt=temp/img01.jpg align=\"left\" style=\"width: 450px;\"/><figcaption>Predicted Label: <b>Positive</b> (Probability: 0.611883104) </figcaption>"
      ],
      "text/plain": [
       "<IPython.core.display.HTML object>"
      ]
     },
     "metadata": {},
     "output_type": "display_data"
    },
    {
     "name": "stdout",
     "output_type": "stream",
     "text": [
      "Downloading {'temp/img01.jpg': '2015-02-03 kinigat (1).jpg'}\n",
      "Downloading s3-avalanche-guard - data/cv/uibk/ResNetClassify/validation/negative/ - 2015-02-03 kinigat (1).jpg - temp/img01.jpg\n"
     ]
    },
    {
     "data": {
      "text/html": [
       "<img src=temp/img01.jpg alt=temp/img01.jpg align=\"left\" style=\"width: 450px;\"/><figcaption>Predicted Label: <b>Not Sure</b> (Probability: 0.516541183) </figcaption>"
      ],
      "text/plain": [
       "<IPython.core.display.HTML object>"
      ]
     },
     "metadata": {},
     "output_type": "display_data"
    },
    {
     "name": "stdout",
     "output_type": "stream",
     "text": [
      "Downloading {'temp/img01.jpg': '2015-02-03 marchkinkele (2).jpg'}\n",
      "Downloading s3-avalanche-guard - data/cv/uibk/ResNetClassify/validation/negative/ - 2015-02-03 marchkinkele (2).jpg - temp/img01.jpg\n"
     ]
    },
    {
     "data": {
      "text/html": [
       "<img src=temp/img01.jpg alt=temp/img01.jpg align=\"left\" style=\"width: 450px;\"/><figcaption>Predicted Label: <b>Not Sure</b> (Probability: 0.500390947) </figcaption>"
      ],
      "text/plain": [
       "<IPython.core.display.HTML object>"
      ]
     },
     "metadata": {},
     "output_type": "display_data"
    },
    {
     "name": "stdout",
     "output_type": "stream",
     "text": [
      "Downloading {'temp/img01.jpg': '2015-02-04 glorerhuette (1).jpg'}\n",
      "Downloading s3-avalanche-guard - data/cv/uibk/ResNetClassify/validation/negative/ - 2015-02-04 glorerhuette (1).jpg - temp/img01.jpg\n"
     ]
    },
    {
     "data": {
      "text/html": [
       "<img src=temp/img01.jpg alt=temp/img01.jpg align=\"left\" style=\"width: 450px;\"/><figcaption>Predicted Label: <b>Negative</b> (Probability: 0.694253147) </figcaption>"
      ],
      "text/plain": [
       "<IPython.core.display.HTML object>"
      ]
     },
     "metadata": {},
     "output_type": "display_data"
    },
    {
     "name": "stdout",
     "output_type": "stream",
     "text": [
      "Downloading {'temp/img01.jpg': '2015-02-04 glorerhuette (5).jpg'}\n",
      "Downloading s3-avalanche-guard - data/cv/uibk/ResNetClassify/validation/negative/ - 2015-02-04 glorerhuette (5).jpg - temp/img01.jpg\n"
     ]
    },
    {
     "data": {
      "text/html": [
       "<img src=temp/img01.jpg alt=temp/img01.jpg align=\"left\" style=\"width: 450px;\"/><figcaption>Predicted Label: <b>Not Sure</b> (Probability: 0.4503645) </figcaption>"
      ],
      "text/plain": [
       "<IPython.core.display.HTML object>"
      ]
     },
     "metadata": {},
     "output_type": "display_data"
    },
    {
     "name": "stdout",
     "output_type": "stream",
     "text": [
      "Downloading {'temp/img01.jpg': '2015-02-07 berwang (1).jpg'}\n",
      "Downloading s3-avalanche-guard - data/cv/uibk/ResNetClassify/validation/negative/ - 2015-02-07 berwang (1).jpg - temp/img01.jpg\n"
     ]
    },
    {
     "data": {
      "text/html": [
       "<img src=temp/img01.jpg alt=temp/img01.jpg align=\"left\" style=\"width: 450px;\"/><figcaption>Predicted Label: <b>Negative</b> (Probability: 0.708980441) </figcaption>"
      ],
      "text/plain": [
       "<IPython.core.display.HTML object>"
      ]
     },
     "metadata": {},
     "output_type": "display_data"
    }
   ],
   "source": [
    "############## Run on the entire folder #####################\n",
    "##############################################################\n",
    "        \n",
    "\n",
    "#---------------------------------------------------------------------------------------------\n",
    "\n",
    "s3_bucket = f\"s3-avalanche-guard\"\n",
    "key_prefix = \"data/cv/uibk/ResNetClassify/validation/negative/\"\n",
    "# The name of the SageMaker endpoint running in our account.  \n",
    "# Note this needs to be in the same region as this running code. \n",
    "ENDPOINT_NAME = 'AR-jumpstart-example-FT-tensorflow-ic-i-2024-06-28-17-07-15-823'\n",
    "#---------------------------------------------------------------------------------------------\n",
    "\n",
    "# get all images for the prefix\n",
    "all_images_list = list_all_s3_objects(s3_bucket,key_prefix)\n",
    "\n",
    "\n",
    "# Now for each image download locally and then run inference, delete after displaying\n",
    "for idx,img in enumerate(all_images_list):\n",
    "    if idx>10:\n",
    "        break\n",
    "    \n",
    "    # download the image\n",
    "    avalanche_images = {\"temp/img01.jpg\": img}\n",
    "    print(\"Downloading {0}\".format(avalanche_images))\n",
    "    download_from_s3(avalanche_images)\n",
    "\n",
    "    # run inference\n",
    "    for image_filename in avalanche_images.keys():\n",
    "        with open(image_filename, \"rb\") as file:\n",
    "            infer_image_from_endpoint(ENDPOINT_NAME,image_filename)\n",
    "    \n",
    "    #sleep for 5 seconds\n",
    "    time.sleep(5)\n",
    "    # now delete the dopwnloaded image"
   ]
  },
  {
   "cell_type": "code",
   "execution_count": null,
   "id": "6610e2fd-98b3-4c12-858c-903a2f76222a",
   "metadata": {},
   "outputs": [],
   "source": []
  },
  {
   "cell_type": "code",
   "execution_count": null,
   "id": "6d2e6b07-0dc9-4c79-a453-02009c606623",
   "metadata": {},
   "outputs": [],
   "source": []
  }
 ],
 "metadata": {
  "availableInstances": [
   {
    "_defaultOrder": 0,
    "_isFastLaunch": true,
    "category": "General purpose",
    "gpuNum": 0,
    "hideHardwareSpecs": false,
    "memoryGiB": 4,
    "name": "ml.t3.medium",
    "vcpuNum": 2
   },
   {
    "_defaultOrder": 1,
    "_isFastLaunch": false,
    "category": "General purpose",
    "gpuNum": 0,
    "hideHardwareSpecs": false,
    "memoryGiB": 8,
    "name": "ml.t3.large",
    "vcpuNum": 2
   },
   {
    "_defaultOrder": 2,
    "_isFastLaunch": false,
    "category": "General purpose",
    "gpuNum": 0,
    "hideHardwareSpecs": false,
    "memoryGiB": 16,
    "name": "ml.t3.xlarge",
    "vcpuNum": 4
   },
   {
    "_defaultOrder": 3,
    "_isFastLaunch": false,
    "category": "General purpose",
    "gpuNum": 0,
    "hideHardwareSpecs": false,
    "memoryGiB": 32,
    "name": "ml.t3.2xlarge",
    "vcpuNum": 8
   },
   {
    "_defaultOrder": 4,
    "_isFastLaunch": true,
    "category": "General purpose",
    "gpuNum": 0,
    "hideHardwareSpecs": false,
    "memoryGiB": 8,
    "name": "ml.m5.large",
    "vcpuNum": 2
   },
   {
    "_defaultOrder": 5,
    "_isFastLaunch": false,
    "category": "General purpose",
    "gpuNum": 0,
    "hideHardwareSpecs": false,
    "memoryGiB": 16,
    "name": "ml.m5.xlarge",
    "vcpuNum": 4
   },
   {
    "_defaultOrder": 6,
    "_isFastLaunch": false,
    "category": "General purpose",
    "gpuNum": 0,
    "hideHardwareSpecs": false,
    "memoryGiB": 32,
    "name": "ml.m5.2xlarge",
    "vcpuNum": 8
   },
   {
    "_defaultOrder": 7,
    "_isFastLaunch": false,
    "category": "General purpose",
    "gpuNum": 0,
    "hideHardwareSpecs": false,
    "memoryGiB": 64,
    "name": "ml.m5.4xlarge",
    "vcpuNum": 16
   },
   {
    "_defaultOrder": 8,
    "_isFastLaunch": false,
    "category": "General purpose",
    "gpuNum": 0,
    "hideHardwareSpecs": false,
    "memoryGiB": 128,
    "name": "ml.m5.8xlarge",
    "vcpuNum": 32
   },
   {
    "_defaultOrder": 9,
    "_isFastLaunch": false,
    "category": "General purpose",
    "gpuNum": 0,
    "hideHardwareSpecs": false,
    "memoryGiB": 192,
    "name": "ml.m5.12xlarge",
    "vcpuNum": 48
   },
   {
    "_defaultOrder": 10,
    "_isFastLaunch": false,
    "category": "General purpose",
    "gpuNum": 0,
    "hideHardwareSpecs": false,
    "memoryGiB": 256,
    "name": "ml.m5.16xlarge",
    "vcpuNum": 64
   },
   {
    "_defaultOrder": 11,
    "_isFastLaunch": false,
    "category": "General purpose",
    "gpuNum": 0,
    "hideHardwareSpecs": false,
    "memoryGiB": 384,
    "name": "ml.m5.24xlarge",
    "vcpuNum": 96
   },
   {
    "_defaultOrder": 12,
    "_isFastLaunch": false,
    "category": "General purpose",
    "gpuNum": 0,
    "hideHardwareSpecs": false,
    "memoryGiB": 8,
    "name": "ml.m5d.large",
    "vcpuNum": 2
   },
   {
    "_defaultOrder": 13,
    "_isFastLaunch": false,
    "category": "General purpose",
    "gpuNum": 0,
    "hideHardwareSpecs": false,
    "memoryGiB": 16,
    "name": "ml.m5d.xlarge",
    "vcpuNum": 4
   },
   {
    "_defaultOrder": 14,
    "_isFastLaunch": false,
    "category": "General purpose",
    "gpuNum": 0,
    "hideHardwareSpecs": false,
    "memoryGiB": 32,
    "name": "ml.m5d.2xlarge",
    "vcpuNum": 8
   },
   {
    "_defaultOrder": 15,
    "_isFastLaunch": false,
    "category": "General purpose",
    "gpuNum": 0,
    "hideHardwareSpecs": false,
    "memoryGiB": 64,
    "name": "ml.m5d.4xlarge",
    "vcpuNum": 16
   },
   {
    "_defaultOrder": 16,
    "_isFastLaunch": false,
    "category": "General purpose",
    "gpuNum": 0,
    "hideHardwareSpecs": false,
    "memoryGiB": 128,
    "name": "ml.m5d.8xlarge",
    "vcpuNum": 32
   },
   {
    "_defaultOrder": 17,
    "_isFastLaunch": false,
    "category": "General purpose",
    "gpuNum": 0,
    "hideHardwareSpecs": false,
    "memoryGiB": 192,
    "name": "ml.m5d.12xlarge",
    "vcpuNum": 48
   },
   {
    "_defaultOrder": 18,
    "_isFastLaunch": false,
    "category": "General purpose",
    "gpuNum": 0,
    "hideHardwareSpecs": false,
    "memoryGiB": 256,
    "name": "ml.m5d.16xlarge",
    "vcpuNum": 64
   },
   {
    "_defaultOrder": 19,
    "_isFastLaunch": false,
    "category": "General purpose",
    "gpuNum": 0,
    "hideHardwareSpecs": false,
    "memoryGiB": 384,
    "name": "ml.m5d.24xlarge",
    "vcpuNum": 96
   },
   {
    "_defaultOrder": 20,
    "_isFastLaunch": false,
    "category": "General purpose",
    "gpuNum": 0,
    "hideHardwareSpecs": true,
    "memoryGiB": 0,
    "name": "ml.geospatial.interactive",
    "supportedImageNames": [
     "sagemaker-geospatial-v1-0"
    ],
    "vcpuNum": 0
   },
   {
    "_defaultOrder": 21,
    "_isFastLaunch": true,
    "category": "Compute optimized",
    "gpuNum": 0,
    "hideHardwareSpecs": false,
    "memoryGiB": 4,
    "name": "ml.c5.large",
    "vcpuNum": 2
   },
   {
    "_defaultOrder": 22,
    "_isFastLaunch": false,
    "category": "Compute optimized",
    "gpuNum": 0,
    "hideHardwareSpecs": false,
    "memoryGiB": 8,
    "name": "ml.c5.xlarge",
    "vcpuNum": 4
   },
   {
    "_defaultOrder": 23,
    "_isFastLaunch": false,
    "category": "Compute optimized",
    "gpuNum": 0,
    "hideHardwareSpecs": false,
    "memoryGiB": 16,
    "name": "ml.c5.2xlarge",
    "vcpuNum": 8
   },
   {
    "_defaultOrder": 24,
    "_isFastLaunch": false,
    "category": "Compute optimized",
    "gpuNum": 0,
    "hideHardwareSpecs": false,
    "memoryGiB": 32,
    "name": "ml.c5.4xlarge",
    "vcpuNum": 16
   },
   {
    "_defaultOrder": 25,
    "_isFastLaunch": false,
    "category": "Compute optimized",
    "gpuNum": 0,
    "hideHardwareSpecs": false,
    "memoryGiB": 72,
    "name": "ml.c5.9xlarge",
    "vcpuNum": 36
   },
   {
    "_defaultOrder": 26,
    "_isFastLaunch": false,
    "category": "Compute optimized",
    "gpuNum": 0,
    "hideHardwareSpecs": false,
    "memoryGiB": 96,
    "name": "ml.c5.12xlarge",
    "vcpuNum": 48
   },
   {
    "_defaultOrder": 27,
    "_isFastLaunch": false,
    "category": "Compute optimized",
    "gpuNum": 0,
    "hideHardwareSpecs": false,
    "memoryGiB": 144,
    "name": "ml.c5.18xlarge",
    "vcpuNum": 72
   },
   {
    "_defaultOrder": 28,
    "_isFastLaunch": false,
    "category": "Compute optimized",
    "gpuNum": 0,
    "hideHardwareSpecs": false,
    "memoryGiB": 192,
    "name": "ml.c5.24xlarge",
    "vcpuNum": 96
   },
   {
    "_defaultOrder": 29,
    "_isFastLaunch": true,
    "category": "Accelerated computing",
    "gpuNum": 1,
    "hideHardwareSpecs": false,
    "memoryGiB": 16,
    "name": "ml.g4dn.xlarge",
    "vcpuNum": 4
   },
   {
    "_defaultOrder": 30,
    "_isFastLaunch": false,
    "category": "Accelerated computing",
    "gpuNum": 1,
    "hideHardwareSpecs": false,
    "memoryGiB": 32,
    "name": "ml.g4dn.2xlarge",
    "vcpuNum": 8
   },
   {
    "_defaultOrder": 31,
    "_isFastLaunch": false,
    "category": "Accelerated computing",
    "gpuNum": 1,
    "hideHardwareSpecs": false,
    "memoryGiB": 64,
    "name": "ml.g4dn.4xlarge",
    "vcpuNum": 16
   },
   {
    "_defaultOrder": 32,
    "_isFastLaunch": false,
    "category": "Accelerated computing",
    "gpuNum": 1,
    "hideHardwareSpecs": false,
    "memoryGiB": 128,
    "name": "ml.g4dn.8xlarge",
    "vcpuNum": 32
   },
   {
    "_defaultOrder": 33,
    "_isFastLaunch": false,
    "category": "Accelerated computing",
    "gpuNum": 4,
    "hideHardwareSpecs": false,
    "memoryGiB": 192,
    "name": "ml.g4dn.12xlarge",
    "vcpuNum": 48
   },
   {
    "_defaultOrder": 34,
    "_isFastLaunch": false,
    "category": "Accelerated computing",
    "gpuNum": 1,
    "hideHardwareSpecs": false,
    "memoryGiB": 256,
    "name": "ml.g4dn.16xlarge",
    "vcpuNum": 64
   },
   {
    "_defaultOrder": 35,
    "_isFastLaunch": false,
    "category": "Accelerated computing",
    "gpuNum": 1,
    "hideHardwareSpecs": false,
    "memoryGiB": 61,
    "name": "ml.p3.2xlarge",
    "vcpuNum": 8
   },
   {
    "_defaultOrder": 36,
    "_isFastLaunch": false,
    "category": "Accelerated computing",
    "gpuNum": 4,
    "hideHardwareSpecs": false,
    "memoryGiB": 244,
    "name": "ml.p3.8xlarge",
    "vcpuNum": 32
   },
   {
    "_defaultOrder": 37,
    "_isFastLaunch": false,
    "category": "Accelerated computing",
    "gpuNum": 8,
    "hideHardwareSpecs": false,
    "memoryGiB": 488,
    "name": "ml.p3.16xlarge",
    "vcpuNum": 64
   },
   {
    "_defaultOrder": 38,
    "_isFastLaunch": false,
    "category": "Accelerated computing",
    "gpuNum": 8,
    "hideHardwareSpecs": false,
    "memoryGiB": 768,
    "name": "ml.p3dn.24xlarge",
    "vcpuNum": 96
   },
   {
    "_defaultOrder": 39,
    "_isFastLaunch": false,
    "category": "Memory Optimized",
    "gpuNum": 0,
    "hideHardwareSpecs": false,
    "memoryGiB": 16,
    "name": "ml.r5.large",
    "vcpuNum": 2
   },
   {
    "_defaultOrder": 40,
    "_isFastLaunch": false,
    "category": "Memory Optimized",
    "gpuNum": 0,
    "hideHardwareSpecs": false,
    "memoryGiB": 32,
    "name": "ml.r5.xlarge",
    "vcpuNum": 4
   },
   {
    "_defaultOrder": 41,
    "_isFastLaunch": false,
    "category": "Memory Optimized",
    "gpuNum": 0,
    "hideHardwareSpecs": false,
    "memoryGiB": 64,
    "name": "ml.r5.2xlarge",
    "vcpuNum": 8
   },
   {
    "_defaultOrder": 42,
    "_isFastLaunch": false,
    "category": "Memory Optimized",
    "gpuNum": 0,
    "hideHardwareSpecs": false,
    "memoryGiB": 128,
    "name": "ml.r5.4xlarge",
    "vcpuNum": 16
   },
   {
    "_defaultOrder": 43,
    "_isFastLaunch": false,
    "category": "Memory Optimized",
    "gpuNum": 0,
    "hideHardwareSpecs": false,
    "memoryGiB": 256,
    "name": "ml.r5.8xlarge",
    "vcpuNum": 32
   },
   {
    "_defaultOrder": 44,
    "_isFastLaunch": false,
    "category": "Memory Optimized",
    "gpuNum": 0,
    "hideHardwareSpecs": false,
    "memoryGiB": 384,
    "name": "ml.r5.12xlarge",
    "vcpuNum": 48
   },
   {
    "_defaultOrder": 45,
    "_isFastLaunch": false,
    "category": "Memory Optimized",
    "gpuNum": 0,
    "hideHardwareSpecs": false,
    "memoryGiB": 512,
    "name": "ml.r5.16xlarge",
    "vcpuNum": 64
   },
   {
    "_defaultOrder": 46,
    "_isFastLaunch": false,
    "category": "Memory Optimized",
    "gpuNum": 0,
    "hideHardwareSpecs": false,
    "memoryGiB": 768,
    "name": "ml.r5.24xlarge",
    "vcpuNum": 96
   },
   {
    "_defaultOrder": 47,
    "_isFastLaunch": false,
    "category": "Accelerated computing",
    "gpuNum": 1,
    "hideHardwareSpecs": false,
    "memoryGiB": 16,
    "name": "ml.g5.xlarge",
    "vcpuNum": 4
   },
   {
    "_defaultOrder": 48,
    "_isFastLaunch": false,
    "category": "Accelerated computing",
    "gpuNum": 1,
    "hideHardwareSpecs": false,
    "memoryGiB": 32,
    "name": "ml.g5.2xlarge",
    "vcpuNum": 8
   },
   {
    "_defaultOrder": 49,
    "_isFastLaunch": false,
    "category": "Accelerated computing",
    "gpuNum": 1,
    "hideHardwareSpecs": false,
    "memoryGiB": 64,
    "name": "ml.g5.4xlarge",
    "vcpuNum": 16
   },
   {
    "_defaultOrder": 50,
    "_isFastLaunch": false,
    "category": "Accelerated computing",
    "gpuNum": 1,
    "hideHardwareSpecs": false,
    "memoryGiB": 128,
    "name": "ml.g5.8xlarge",
    "vcpuNum": 32
   },
   {
    "_defaultOrder": 51,
    "_isFastLaunch": false,
    "category": "Accelerated computing",
    "gpuNum": 1,
    "hideHardwareSpecs": false,
    "memoryGiB": 256,
    "name": "ml.g5.16xlarge",
    "vcpuNum": 64
   },
   {
    "_defaultOrder": 52,
    "_isFastLaunch": false,
    "category": "Accelerated computing",
    "gpuNum": 4,
    "hideHardwareSpecs": false,
    "memoryGiB": 192,
    "name": "ml.g5.12xlarge",
    "vcpuNum": 48
   },
   {
    "_defaultOrder": 53,
    "_isFastLaunch": false,
    "category": "Accelerated computing",
    "gpuNum": 4,
    "hideHardwareSpecs": false,
    "memoryGiB": 384,
    "name": "ml.g5.24xlarge",
    "vcpuNum": 96
   },
   {
    "_defaultOrder": 54,
    "_isFastLaunch": false,
    "category": "Accelerated computing",
    "gpuNum": 8,
    "hideHardwareSpecs": false,
    "memoryGiB": 768,
    "name": "ml.g5.48xlarge",
    "vcpuNum": 192
   },
   {
    "_defaultOrder": 55,
    "_isFastLaunch": false,
    "category": "Accelerated computing",
    "gpuNum": 8,
    "hideHardwareSpecs": false,
    "memoryGiB": 1152,
    "name": "ml.p4d.24xlarge",
    "vcpuNum": 96
   },
   {
    "_defaultOrder": 56,
    "_isFastLaunch": false,
    "category": "Accelerated computing",
    "gpuNum": 8,
    "hideHardwareSpecs": false,
    "memoryGiB": 1152,
    "name": "ml.p4de.24xlarge",
    "vcpuNum": 96
   },
   {
    "_defaultOrder": 57,
    "_isFastLaunch": false,
    "category": "Accelerated computing",
    "gpuNum": 0,
    "hideHardwareSpecs": false,
    "memoryGiB": 32,
    "name": "ml.trn1.2xlarge",
    "vcpuNum": 8
   },
   {
    "_defaultOrder": 58,
    "_isFastLaunch": false,
    "category": "Accelerated computing",
    "gpuNum": 0,
    "hideHardwareSpecs": false,
    "memoryGiB": 512,
    "name": "ml.trn1.32xlarge",
    "vcpuNum": 128
   },
   {
    "_defaultOrder": 59,
    "_isFastLaunch": false,
    "category": "Accelerated computing",
    "gpuNum": 0,
    "hideHardwareSpecs": false,
    "memoryGiB": 512,
    "name": "ml.trn1n.32xlarge",
    "vcpuNum": 128
   }
  ],
  "instance_type": "ml.t3.medium",
  "kernelspec": {
   "display_name": "Python 3 (Data Science 3.0)",
   "language": "python",
   "name": "python3__SAGEMAKER_INTERNAL__arn:aws:sagemaker:us-west-1:742091327244:image/sagemaker-data-science-310-v1"
  },
  "language_info": {
   "codemirror_mode": {
    "name": "ipython",
    "version": 3
   },
   "file_extension": ".py",
   "mimetype": "text/x-python",
   "name": "python",
   "nbconvert_exporter": "python",
   "pygments_lexer": "ipython3",
   "version": "3.10.6"
  }
 },
 "nbformat": 4,
 "nbformat_minor": 5
}
